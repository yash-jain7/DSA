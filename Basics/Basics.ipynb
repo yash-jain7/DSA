{
 "cells": [
  {
   "cell_type": "code",
   "execution_count": 3,
   "id": "0074c58b",
   "metadata": {},
   "outputs": [
    {
     "name": "stdout",
     "output_type": "stream",
     "text": [
      "Enter t:2\n",
      "Enter a number:5\n",
      "Prime\n",
      "Enter a number:6\n",
      "Not prime\n"
     ]
    }
   ],
   "source": [
    "# Prime number\n",
    "\n",
    "x = int(input('Enter t:'))\n",
    "for i in range(x):\n",
    "    count = 0\n",
    "    m = 2\n",
    "    a = int(input('Enter a number:'))\n",
    "    while m <= int(a **(0.5)):\n",
    "        if a%m == 0:\n",
    "            count = count+1\n",
    "            break\n",
    "        else:\n",
    "            m = m+1\n",
    "            \n",
    "    if count == 0:\n",
    "        print('Prime')\n",
    "    else:\n",
    "        print('Not prime')\n",
    "\n",
    "\n",
    "\n"
   ]
  },
  {
   "cell_type": "code",
   "execution_count": 24,
   "id": "f838a6d6",
   "metadata": {},
   "outputs": [
    {
     "name": "stdout",
     "output_type": "stream",
     "text": [
      "Enter lower bound:4\n",
      "Enter higher bound:9\n",
      "5\n",
      "7\n"
     ]
    }
   ],
   "source": [
    "# Print all primes till N\n",
    "low = int(input('Enter lower bound:'))\n",
    "high = int(input('Enter higher bound:'))\n",
    "for i in range(low, high +1, 1):\n",
    "\n",
    "    count = 0\n",
    "    m = 2\n",
    "    while m <= int(i **(0.5)):\n",
    "        if i%m == 0:\n",
    "            count += 1\n",
    "            break\n",
    "        else:\n",
    "            m = m+1\n",
    "            \n",
    "    if count == 0:\n",
    "        print(i)\n"
   ]
  },
  {
   "cell_type": "code",
   "execution_count": 5,
   "id": "e792f380",
   "metadata": {},
   "outputs": [
    {
     "name": "stdout",
     "output_type": "stream",
     "text": [
      "Enter fibonacci length:7\n",
      "0\n",
      "1\n",
      "1\n",
      "2\n",
      "3\n",
      "5\n",
      "8\n"
     ]
    }
   ],
   "source": [
    "#Fibonacci naive\n",
    "\n",
    "n = int(input('Enter fibonacci length:'))\n",
    "a = 0 \n",
    "b = 1\n",
    "for i in range(n):\n",
    "    print(a)\n",
    "    c = a+b\n",
    "    a = b\n",
    "    b = c"
   ]
  },
  {
   "cell_type": "code",
   "execution_count": 6,
   "id": "408183c9",
   "metadata": {},
   "outputs": [
    {
     "name": "stdout",
     "output_type": "stream",
     "text": [
      "Enter number:6789\n",
      "4\n"
     ]
    }
   ],
   "source": [
    "#Count total number of digits\n",
    "\n",
    "n = int(input('Enter number:'))\n",
    "count = 0\n",
    "while n > 0:\n",
    "    n = n // 10\n",
    "    count = count +1\n",
    "    \n",
    "print(count)"
   ]
  },
  {
   "cell_type": "code",
   "execution_count": 7,
   "id": "dcd8beda",
   "metadata": {},
   "outputs": [
    {
     "name": "stdout",
     "output_type": "stream",
     "text": [
      "Enter number:12345\n",
      "1\n",
      "2\n",
      "3\n",
      "4\n",
      "5\n"
     ]
    }
   ],
   "source": [
    "#Print digits\n",
    "\n",
    "n = int(input('Enter number:'))\n",
    "l = len(str(n))\n",
    "while l > 0:\n",
    "    div = 10 ** (l-1)\n",
    "    print(n // div)\n",
    "    n = n%div\n",
    "    l = l-1\n",
    "\n",
    "\n"
   ]
  },
  {
   "cell_type": "code",
   "execution_count": 8,
   "id": "61e641ce",
   "metadata": {},
   "outputs": [
    {
     "name": "stdout",
     "output_type": "stream",
     "text": [
      "Enter number:3456\n",
      "6\n",
      "5\n",
      "4\n",
      "3\n"
     ]
    }
   ],
   "source": [
    "#Print reversed digits\n",
    "\n",
    "n = int(input('Enter number:'))\n",
    "while n > 0:\n",
    "    print(n%10)\n",
    "    n = n // 10\n",
    "    "
   ]
  },
  {
   "cell_type": "code",
   "execution_count": 9,
   "id": "4f38abce",
   "metadata": {},
   "outputs": [
    {
     "name": "stdout",
     "output_type": "stream",
     "text": [
      "Enter number:1234\n",
      "1234\n"
     ]
    }
   ],
   "source": [
    "#Inverse of a number\n",
    "\n",
    "n = int(input('Enter number:'))\n",
    "l = len(str(n))\n",
    "count = 0\n",
    "for i in range(1,l+1,1):\n",
    "    if str(i) in str(n):\n",
    "        count = count +1\n",
    "s = 0\n",
    "if count == l:\n",
    "    for i in range(1, l+1, 1):\n",
    "        a = n % 10\n",
    "        s = s + i * (10 ** (a - 1))\n",
    "        n = n // 10\n",
    "    print(s)\n",
    "else:\n",
    "    print('Not a valid number')"
   ]
  },
  {
   "cell_type": "code",
   "execution_count": 15,
   "id": "c3ab0a8c",
   "metadata": {},
   "outputs": [
    {
     "name": "stdout",
     "output_type": "stream",
     "text": [
      "Enter number:35618\n",
      "Enter number of rotations:1\n",
      "83561\n"
     ]
    }
   ],
   "source": [
    "#Rotate a number\n",
    "\n",
    "n = int(input('Enter number:'))\n",
    "r = int(input('Enter number of rotations:'))\n",
    "l = len(str(n))\n",
    "\n",
    "if r < 0:\n",
    "    r = 5 - abs(r)\n",
    "\n",
    "r = r%l\n",
    "for i in range(r):\n",
    "    d = n % 10\n",
    "    q = n // 10\n",
    "    n = q + d * (10 ** (l-1))\n",
    "\n",
    "    \n",
    "print(n)\n",
    "    \n",
    "\n"
   ]
  },
  {
   "cell_type": "code",
   "execution_count": 20,
   "id": "a7dd57f7",
   "metadata": {},
   "outputs": [
    {
     "name": "stdout",
     "output_type": "stream",
     "text": [
      "Enter first number:24\n",
      "Enter second number:36\n",
      "GCD: 12\n",
      "LCM: 72.0\n"
     ]
    }
   ],
   "source": [
    "#GCD & LCM\n",
    "\n",
    "n1 = int(input('Enter first number:'))\n",
    "n2 = int(input('Enter second number:'))\n",
    "\n",
    "#GCD\n",
    "gcd = 1\n",
    "for i in range(min(n1,n2), 2,-1):\n",
    "    if n1 % i == 0 and n2 % i == 0:\n",
    "        gcd = i\n",
    "        break\n",
    "    \n",
    "print('GCD:',gcd)\n",
    "\n",
    "lcm = (n1 * n2) / gcd\n",
    "print('LCM:',lcm)\n",
    "\n"
   ]
  },
  {
   "cell_type": "code",
   "execution_count": 34,
   "id": "bf7fcab5",
   "metadata": {},
   "outputs": [
    {
     "name": "stdout",
     "output_type": "stream",
     "text": [
      "Enter number for prime factorization:46\n",
      "2 23 "
     ]
    }
   ],
   "source": [
    "#Get Prime factors\n",
    "\n",
    "n = int(input('Enter number for prime factorization:'))\n",
    "for i in range(2, int(n ** (0.5))+1, 1):\n",
    "    while n % i == 0:\n",
    "        print(i,  end=' ')\n",
    "        n = n / i\n",
    "if n != 1:\n",
    "    print(int(n), end=' ')\n"
   ]
  },
  {
   "cell_type": "code",
   "execution_count": 38,
   "id": "eb110793",
   "metadata": {},
   "outputs": [
    {
     "name": "stdout",
     "output_type": "stream",
     "text": [
      "Enter first number:3\n",
      "Enter second number:4\n",
      "Enter third number:5\n",
      "True\n"
     ]
    }
   ],
   "source": [
    "#Pythagorean triplets\n",
    "\n",
    "a = int(input('Enter first number:'))\n",
    "b = int(input('Enter second number:'))\n",
    "c = int(input('Enter third number:'))\n",
    "\n",
    "m = a\n",
    "\n",
    "if b > a:\n",
    "    m = b\n",
    "if c > m:\n",
    "    m = c\n",
    "    \n",
    "if m == a:\n",
    "      if (b**2 + c**2) == a**2:\n",
    "            print('True')\n",
    "elif m == b:\n",
    "    if (a**2 + c**2) == b**2:\n",
    "        print('True')\n",
    "elif m == c:\n",
    "    if (a**2 + b**2) == c**2:\n",
    "        print(\"True\")\n",
    "else:\n",
    "    print('False')"
   ]
  },
  {
   "cell_type": "code",
   "execution_count": 42,
   "id": "ecae4c69",
   "metadata": {},
   "outputs": [
    {
     "name": "stdout",
     "output_type": "stream",
     "text": [
      "Enter number of bulbs:4\n",
      "2\n"
     ]
    }
   ],
   "source": [
    "#Benjamin bulbs naive\n",
    "\n",
    "n = int(input('Enter number of bulbs:'))\n",
    "\n",
    "l = [False] * n\n",
    "c = 0\n",
    "for i in range(1, n+1, 1):\n",
    "    for j in range(len(l)):\n",
    "        if (j+1) % i == 0:\n",
    "            l[j] = not l[j]   \n",
    "for i in l:\n",
    "    if i == True:\n",
    "        c = c+1\n",
    "                \n",
    "print(c)"
   ]
  },
  {
   "cell_type": "code",
   "execution_count": 45,
   "id": "5a0b2088",
   "metadata": {},
   "outputs": [
    {
     "name": "stdout",
     "output_type": "stream",
     "text": [
      "Enter number of bulbs:4\n",
      "2\n"
     ]
    }
   ],
   "source": [
    "#Benjamin bulbs pro\n",
    "\n",
    "n = int(input('Enter number of bulbs:'))\n",
    "c = 0\n",
    "for i in range(1, int(n ** (0.5))+1, 1):\n",
    "    c = c+1\n",
    "print(c)   "
   ]
  },
  {
   "cell_type": "code",
   "execution_count": null,
   "id": "caa2ef58",
   "metadata": {},
   "outputs": [],
   "source": []
  }
 ],
 "metadata": {
  "kernelspec": {
   "display_name": "Python 3.9 (tensorflow)",
   "language": "python",
   "name": "tensorflow"
  },
  "language_info": {
   "codemirror_mode": {
    "name": "ipython",
    "version": 3
   },
   "file_extension": ".py",
   "mimetype": "text/x-python",
   "name": "python",
   "nbconvert_exporter": "python",
   "pygments_lexer": "ipython3",
   "version": "3.9.7"
  }
 },
 "nbformat": 4,
 "nbformat_minor": 5
}
