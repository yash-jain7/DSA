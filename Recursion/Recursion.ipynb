{
 "cells": [
  {
   "cell_type": "code",
   "execution_count": 2,
   "id": "c9c358de",
   "metadata": {},
   "outputs": [
    {
     "name": "stdout",
     "output_type": "stream",
     "text": [
      "5\n",
      "4\n",
      "3\n",
      "2\n",
      "1\n"
     ]
    }
   ],
   "source": [
    "def print_decreasing(n):\n",
    "    if n < 1:\n",
    "        return\n",
    "    print(n)\n",
    "    print_decreasing(n-1)\n",
    "print_decreasing(5)  "
   ]
  },
  {
   "cell_type": "code",
   "execution_count": 5,
   "id": "fc463c5c",
   "metadata": {},
   "outputs": [
    {
     "name": "stdout",
     "output_type": "stream",
     "text": [
      "1\n",
      "2\n",
      "3\n",
      "4\n",
      "5\n"
     ]
    }
   ],
   "source": [
    "def print_increasing(n):\n",
    "    if n ==0:\n",
    "        return\n",
    "    print_increasing(n-1)\n",
    "    print(n)\n",
    "print_increasing(5)"
   ]
  },
  {
   "cell_type": "code",
   "execution_count": 6,
   "id": "a1d696dc",
   "metadata": {},
   "outputs": [
    {
     "name": "stdout",
     "output_type": "stream",
     "text": [
      "5\n",
      "4\n",
      "3\n",
      "2\n",
      "1\n",
      "1\n",
      "2\n",
      "3\n",
      "4\n",
      "5\n"
     ]
    }
   ],
   "source": [
    "def print_decreasing_increasing(n):\n",
    "    if n == 0:\n",
    "        return\n",
    "    print(n)\n",
    "    print_decreasing_increasing(n-1)\n",
    "    print(n)\n",
    "\n",
    "print_decreasing_increasing(5) "
   ]
  },
  {
   "cell_type": "code",
   "execution_count": 10,
   "id": "b01922c8",
   "metadata": {},
   "outputs": [
    {
     "data": {
      "text/plain": [
       "120"
      ]
     },
     "execution_count": 10,
     "metadata": {},
     "output_type": "execute_result"
    }
   ],
   "source": [
    "def factorial(n):\n",
    "    if n == 0:\n",
    "        return 1 \n",
    "    a = n * factorial(n-1)\n",
    "    return a\n",
    "x = factorial(5)\n",
    "x"
   ]
  },
  {
   "cell_type": "code",
   "execution_count": 12,
   "id": "fd0f3d5f",
   "metadata": {},
   "outputs": [
    {
     "data": {
      "text/plain": [
       "4"
      ]
     },
     "execution_count": 12,
     "metadata": {},
     "output_type": "execute_result"
    }
   ],
   "source": [
    "def power(x,n):\n",
    "    if n == 0:\n",
    "        return 1\n",
    "    a = x * power(x, n-1)\n",
    "    return a\n",
    "power(2,2)"
   ]
  },
  {
   "cell_type": "code",
   "execution_count": 9,
   "id": "e979c477",
   "metadata": {},
   "outputs": [
    {
     "data": {
      "text/plain": [
       "32"
      ]
     },
     "execution_count": 9,
     "metadata": {},
     "output_type": "execute_result"
    }
   ],
   "source": [
    "def log_power(x,n):\n",
    "    if n == 0:\n",
    "        return 1\n",
    "    a = log_power(x, n//2)\n",
    "    ans = a * a\n",
    "    if n%2 == 1:\n",
    "        ans = ans * x\n",
    "    return ans\n",
    "\n",
    "b = log_power(2,5)\n",
    "b"
   ]
  },
  {
   "cell_type": "code",
   "execution_count": 9,
   "id": "b0d4b2b5",
   "metadata": {},
   "outputs": [
    {
     "name": "stdout",
     "output_type": "stream",
     "text": [
      "1[A-->C]\n",
      "2[A-->B]\n",
      "1[C-->B]\n"
     ]
    }
   ],
   "source": [
    "#Tower of Hanoi\n",
    "\n",
    "def tower_of_hanoi(n, t1, t2, t3):\n",
    "    if n == 0:\n",
    "        return\n",
    "    tower_of_hanoi(n-1, t1, t3, t2)\n",
    "    print(str(n) + '[' + t1 + '-->' + t2 + ']')\n",
    "    tower_of_hanoi(n-1, t3, t2, t1)\n",
    "\n",
    "tower_of_hanoi(3, 'A', 'B', 'C')\n"
   ]
  },
  {
   "cell_type": "code",
   "execution_count": 27,
   "id": "ac034852",
   "metadata": {},
   "outputs": [
    {
     "name": "stdout",
     "output_type": "stream",
     "text": [
      "50\n"
     ]
    }
   ],
   "source": [
    "def display_array(a, idx):\n",
    "    n = len(a)\n",
    "    if idx == n:\n",
    "        return\n",
    "    print(a[idx])\n",
    "    display_array(a, idx+1)\n",
    "    \n",
    "display_array([10,20,30,40,50], 4) "
   ]
  },
  {
   "cell_type": "code",
   "execution_count": 31,
   "id": "2b7379a5",
   "metadata": {},
   "outputs": [
    {
     "name": "stdout",
     "output_type": "stream",
     "text": [
      "50\n",
      "40\n",
      "30\n"
     ]
    }
   ],
   "source": [
    "def display_array_reverse(a, idx):\n",
    "    n = len(a)\n",
    "    if idx == len(a):\n",
    "        return\n",
    "    display_array_reverse(a, idx+1)\n",
    "    print(a[idx])\n",
    "\n",
    "display_array_reverse([10,20,30,40,50], 2) "
   ]
  },
  {
   "cell_type": "code",
   "execution_count": 15,
   "id": "2d6667f7",
   "metadata": {},
   "outputs": [
    {
     "data": {
      "text/plain": [
       "30"
      ]
     },
     "execution_count": 15,
     "metadata": {},
     "output_type": "execute_result"
    }
   ],
   "source": [
    "def max_array(a, idx):\n",
    "    if idx == len(a) - 1:\n",
    "        return a[idx]\n",
    "    m = max_array(a, idx + 1)\n",
    "    if a[idx] > m:\n",
    "        m = a[idx]\n",
    "    return m\n",
    "\n",
    "\n",
    "max_array([100,20,30,4,5], 2)"
   ]
  },
  {
   "cell_type": "code",
   "execution_count": 34,
   "id": "9dd61573",
   "metadata": {},
   "outputs": [
    {
     "data": {
      "text/plain": [
       "7"
      ]
     },
     "execution_count": 34,
     "metadata": {},
     "output_type": "execute_result"
    }
   ],
   "source": [
    "def first_occurence(a, idx, x):\n",
    "    if idx == len(a):\n",
    "        return -1\n",
    "    m = first_occurence(a, idx+1, x)\n",
    "    if a[idx] == x:\n",
    "        m = idx\n",
    "    return m\n",
    "    \n",
    "    \n",
    "first_occurence([1,2,3,4,3,2,1, 5], 0, 5)    "
   ]
  },
  {
   "cell_type": "code",
   "execution_count": 37,
   "id": "07c1d06d",
   "metadata": {},
   "outputs": [
    {
     "data": {
      "text/plain": [
       "-1"
      ]
     },
     "execution_count": 37,
     "metadata": {},
     "output_type": "execute_result"
    }
   ],
   "source": [
    "#Better approach\n",
    "def first_occurence(a, idx, x):\n",
    "    if idx == len(a) :\n",
    "        return -1\n",
    "    \n",
    "    if a[idx] == x:\n",
    "        m = idx\n",
    "        return m\n",
    "    else:\n",
    "        m = first_occurence(a, idx+1, x)\n",
    "\n",
    "    return m\n",
    "    \n",
    "    \n",
    "first_occurence([1,2,3,4,3,2,1, 5], 0, 100)    "
   ]
  },
  {
   "cell_type": "code",
   "execution_count": 43,
   "id": "c99e26a9",
   "metadata": {},
   "outputs": [
    {
     "data": {
      "text/plain": [
       "6"
      ]
     },
     "execution_count": 43,
     "metadata": {},
     "output_type": "execute_result"
    }
   ],
   "source": [
    "def last_occurence(a, idx, x):\n",
    "    if idx == len(a):\n",
    "        return -1\n",
    "    m = last_occurence(a, idx+1, x)\n",
    "    if a[idx] == x:\n",
    "        if m < idx:\n",
    "            m = idx\n",
    "            return m\n",
    "    return m\n",
    "        \n",
    "last_occurence([1,2,3,4,3,2,1, 5], 0, 1)      "
   ]
  },
  {
   "cell_type": "code",
   "execution_count": 21,
   "id": "f6ba34c4",
   "metadata": {},
   "outputs": [
    {
     "data": {
      "text/plain": [
       "[2, 4]"
      ]
     },
     "execution_count": 21,
     "metadata": {},
     "output_type": "execute_result"
    }
   ],
   "source": [
    "def all_indices(a, idx, x, c):\n",
    "    if idx == len(a):\n",
    "        ans = [0] * (c)\n",
    "        return ans\n",
    "    \n",
    "    if a[idx] == x:\n",
    "        m = all_indices(a, idx+1, x, c+1)\n",
    "        m[c] = idx  \n",
    "    else:\n",
    "        m = all_indices(a, idx+1, x, c)\n",
    "    return m\n",
    "\n",
    "all_indices([1,2,3,4,3,2,1, 5], 0, 3, 0)"
   ]
  },
  {
   "cell_type": "code",
   "execution_count": 38,
   "id": "38a259a4",
   "metadata": {},
   "outputs": [
    {
     "data": {
      "text/plain": [
       "['abc_', '_bc_', 'a_c_', '__c_', 'ab__', '_b__', 'a___', '____']"
      ]
     },
     "execution_count": 38,
     "metadata": {},
     "output_type": "execute_result"
    }
   ],
   "source": [
    "def getsubsequence(s):\n",
    "    if len(s) == 0:\n",
    "        return ['_']\n",
    "    ans = []\n",
    "    first = s[0]\n",
    "    rest = s[1:]\n",
    "    m = getsubsequence(rest)\n",
    "    for i in m:\n",
    "        a = first + i\n",
    "        b = '_' + i\n",
    "        ans.append(a)\n",
    "        ans.append(b)\n",
    "    return ans\n",
    "getsubsequence('abc')        "
   ]
  },
  {
   "cell_type": "code",
   "execution_count": 39,
   "id": "d78e6c7c",
   "metadata": {},
   "outputs": [],
   "source": [
    "d = {0:'.;', 1 : 'abc', 2:'def', 3:'ghi', 4:'jkl', 5:'mno', 6:'pqrs', 7:'tu', 8:'vwx', 9:'yz'}"
   ]
  },
  {
   "cell_type": "code",
   "execution_count": 54,
   "id": "618a70e6",
   "metadata": {},
   "outputs": [
    {
     "data": {
      "text/plain": [
       "['mtg',\n",
       " 'ntg',\n",
       " 'otg',\n",
       " 'mug',\n",
       " 'nug',\n",
       " 'oug',\n",
       " 'mth',\n",
       " 'nth',\n",
       " 'oth',\n",
       " 'muh',\n",
       " 'nuh',\n",
       " 'ouh',\n",
       " 'mti',\n",
       " 'nti',\n",
       " 'oti',\n",
       " 'mui',\n",
       " 'nui',\n",
       " 'oui']"
      ]
     },
     "execution_count": 54,
     "metadata": {},
     "output_type": "execute_result"
    }
   ],
   "source": [
    "def getKeypad(s):\n",
    "    keypad = {0:'.;', 1 : 'abc', 2:'def', 3:'ghi', 4:'jkl', 5:'mno', 6:'pqrs', 7:'tu', 8:'vwx', 9:'yz'}\n",
    "    if len(s) == 1:\n",
    "        return list(keypad[int(s)])\n",
    "    first = s[0]\n",
    "    last = s[1:]\n",
    "    m = getKPC(last)\n",
    "    ans = []\n",
    "    for i in m:\n",
    "        for j in keypad[int(first)]:\n",
    "            a = j + i\n",
    "            ans.append(a)\n",
    "\n",
    "    return ans\n",
    "getKeypad('573')\n",
    "    "
   ]
  },
  {
   "cell_type": "code",
   "execution_count": 20,
   "id": "64d9dde8",
   "metadata": {},
   "outputs": [
    {
     "data": {
      "text/plain": [
       "['1111', '112', '121', '13', '211', '22', '31']"
      ]
     },
     "execution_count": 20,
     "metadata": {},
     "output_type": "execute_result"
    }
   ],
   "source": [
    "def getStairsPath(n):\n",
    "    if n == 0:\n",
    "        return ['']\n",
    "    elif n < 0:\n",
    "        return []\n",
    "    ans = []\n",
    "    a = getStairsPath(n-1)\n",
    "    b = getStairsPath(n-2)\n",
    "    c = getStairsPath(n-3)\n",
    "    \n",
    "    for i in a:\n",
    "        x = '1' + i\n",
    "        ans.append(x)\n",
    "    for i in b:\n",
    "        x = '2' + i\n",
    "        ans.append(x)\n",
    "    for i in c:\n",
    "        x = '3' + i\n",
    "        ans.append(x)\n",
    "    return ans\n",
    "getStairsPath(4)"
   ]
  },
  {
   "cell_type": "code",
   "execution_count": 55,
   "id": "bf6bfd83",
   "metadata": {},
   "outputs": [
    {
     "data": {
      "text/plain": [
       "['hhvv', 'hvhv', 'hvvh', 'vhhv', 'vhvh', 'vvhh']"
      ]
     },
     "execution_count": 55,
     "metadata": {},
     "output_type": "execute_result"
    }
   ],
   "source": [
    "def getMazePaths(sr,sc,dr,dc):\n",
    "    if sr == dr and sc == dc:\n",
    "        return ['']\n",
    "    if sr > dr or sc > dc:\n",
    "        return []\n",
    "\n",
    "    vpaths = getMazePaths(sr+1, sc, dr,dc)\n",
    "    hpaths = getMazePaths(sr, sc+1,dr,dc)\n",
    "    ans = []\n",
    "    for i in hpaths:\n",
    "        x = 'h' + i\n",
    "        ans.append(x)\n",
    "    for j in vpaths:\n",
    "        z = 'v' + j\n",
    "        ans.append(z)\n",
    "    return ans\n",
    "        \n",
    "getMazePaths(1,1,3,3)    "
   ]
  },
  {
   "cell_type": "code",
   "execution_count": null,
   "id": "59e2c968",
   "metadata": {},
   "outputs": [],
   "source": []
  }
 ],
 "metadata": {
  "kernelspec": {
   "display_name": "Python 3.9 (tensorflow)",
   "language": "python",
   "name": "tensorflow"
  },
  "language_info": {
   "codemirror_mode": {
    "name": "ipython",
    "version": 3
   },
   "file_extension": ".py",
   "mimetype": "text/x-python",
   "name": "python",
   "nbconvert_exporter": "python",
   "pygments_lexer": "ipython3",
   "version": "3.9.7"
  }
 },
 "nbformat": 4,
 "nbformat_minor": 5
}
