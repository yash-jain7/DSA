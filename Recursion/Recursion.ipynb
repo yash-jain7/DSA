{
 "cells": [
  {
   "cell_type": "code",
   "execution_count": 2,
   "id": "c9c358de",
   "metadata": {},
   "outputs": [
    {
     "name": "stdout",
     "output_type": "stream",
     "text": [
      "5\n",
      "4\n",
      "3\n",
      "2\n",
      "1\n"
     ]
    }
   ],
   "source": [
    "def print_decreasing(n):\n",
    "    if n < 1:\n",
    "        return\n",
    "    print(n)\n",
    "    print_decreasing(n-1)\n",
    "print_decreasing(5)  "
   ]
  },
  {
   "cell_type": "code",
   "execution_count": 5,
   "id": "fc463c5c",
   "metadata": {},
   "outputs": [
    {
     "name": "stdout",
     "output_type": "stream",
     "text": [
      "1\n",
      "2\n",
      "3\n",
      "4\n",
      "5\n"
     ]
    }
   ],
   "source": [
    "def print_increasing(n):\n",
    "    if n ==0:\n",
    "        return\n",
    "    print_increasing(n-1)\n",
    "    print(n)\n",
    "print_increasing(5)"
   ]
  },
  {
   "cell_type": "code",
   "execution_count": 6,
   "id": "a1d696dc",
   "metadata": {},
   "outputs": [
    {
     "name": "stdout",
     "output_type": "stream",
     "text": [
      "5\n",
      "4\n",
      "3\n",
      "2\n",
      "1\n",
      "1\n",
      "2\n",
      "3\n",
      "4\n",
      "5\n"
     ]
    }
   ],
   "source": [
    "def print_decreasing_increasing(n):\n",
    "    if n == 0:\n",
    "        return\n",
    "    print(n)\n",
    "    print_decreasing_increasing(n-1)\n",
    "    print(n)\n",
    "\n",
    "print_decreasing_increasing(5) "
   ]
  },
  {
   "cell_type": "code",
   "execution_count": 10,
   "id": "b01922c8",
   "metadata": {},
   "outputs": [
    {
     "data": {
      "text/plain": [
       "120"
      ]
     },
     "execution_count": 10,
     "metadata": {},
     "output_type": "execute_result"
    }
   ],
   "source": [
    "def factorial(n):\n",
    "    if n == 0:\n",
    "        return 1 \n",
    "    a = n * factorial(n-1)\n",
    "    return a\n",
    "x = factorial(5)\n",
    "x"
   ]
  },
  {
   "cell_type": "code",
   "execution_count": 12,
   "id": "fd0f3d5f",
   "metadata": {},
   "outputs": [
    {
     "data": {
      "text/plain": [
       "4"
      ]
     },
     "execution_count": 12,
     "metadata": {},
     "output_type": "execute_result"
    }
   ],
   "source": [
    "def power(x,n):\n",
    "    if n == 0:\n",
    "        return 1\n",
    "    a = x * power(x, n-1)\n",
    "    return a\n",
    "power(2,2)"
   ]
  },
  {
   "cell_type": "code",
   "execution_count": 9,
   "id": "e979c477",
   "metadata": {},
   "outputs": [
    {
     "data": {
      "text/plain": [
       "32"
      ]
     },
     "execution_count": 9,
     "metadata": {},
     "output_type": "execute_result"
    }
   ],
   "source": [
    "def log_power(x,n):\n",
    "    if n == 0:\n",
    "        return 1\n",
    "    a = log_power(x, n//2)\n",
    "    ans = a * a\n",
    "    if n%2 == 1:\n",
    "        ans = ans * x\n",
    "    return ans\n",
    "\n",
    "b = log_power(2,5)\n",
    "b"
   ]
  },
  {
   "cell_type": "code",
   "execution_count": 9,
   "id": "b0d4b2b5",
   "metadata": {},
   "outputs": [
    {
     "name": "stdout",
     "output_type": "stream",
     "text": [
      "1[A-->C]\n",
      "2[A-->B]\n",
      "1[C-->B]\n"
     ]
    }
   ],
   "source": [
    "#Tower of Hanoi\n",
    "\n",
    "def tower_of_hanoi(n, t1, t2, t3):\n",
    "    if n == 0:\n",
    "        return\n",
    "    tower_of_hanoi(n-1, t1, t3, t2)\n",
    "    print(str(n) + '[' + t1 + '-->' + t2 + ']')\n",
    "    tower_of_hanoi(n-1, t3, t2, t1)\n",
    "\n",
    "tower_of_hanoi(3, 'A', 'B', 'C')\n"
   ]
  },
  {
   "cell_type": "code",
   "execution_count": 27,
   "id": "ac034852",
   "metadata": {},
   "outputs": [
    {
     "name": "stdout",
     "output_type": "stream",
     "text": [
      "50\n"
     ]
    }
   ],
   "source": [
    "def display_array(a, idx):\n",
    "    n = len(a)\n",
    "    if idx == n:\n",
    "        return\n",
    "    print(a[idx])\n",
    "    display_array(a, idx+1)\n",
    "    \n",
    "display_array([10,20,30,40,50], 4) "
   ]
  },
  {
   "cell_type": "code",
   "execution_count": 31,
   "id": "2b7379a5",
   "metadata": {},
   "outputs": [
    {
     "name": "stdout",
     "output_type": "stream",
     "text": [
      "50\n",
      "40\n",
      "30\n"
     ]
    }
   ],
   "source": [
    "def display_array_reverse(a, idx):\n",
    "    n = len(a)\n",
    "    if idx == len(a):\n",
    "        return\n",
    "    display_array_reverse(a, idx+1)\n",
    "    print(a[idx])\n",
    "\n",
    "display_array_reverse([10,20,30,40,50], 2) "
   ]
  },
  {
   "cell_type": "code",
   "execution_count": 15,
   "id": "2d6667f7",
   "metadata": {},
   "outputs": [
    {
     "data": {
      "text/plain": [
       "30"
      ]
     },
     "execution_count": 15,
     "metadata": {},
     "output_type": "execute_result"
    }
   ],
   "source": [
    "def max_array(a, idx):\n",
    "    if idx == len(a) - 1:\n",
    "        return a[idx]\n",
    "    m = max_array(a, idx + 1)\n",
    "    if a[idx] > m:\n",
    "        m = a[idx]\n",
    "    return m\n",
    "\n",
    "\n",
    "max_array([100,20,30,4,5], 2)"
   ]
  },
  {
   "cell_type": "code",
   "execution_count": 34,
   "id": "9dd61573",
   "metadata": {},
   "outputs": [
    {
     "data": {
      "text/plain": [
       "7"
      ]
     },
     "execution_count": 34,
     "metadata": {},
     "output_type": "execute_result"
    }
   ],
   "source": [
    "def first_occurence(a, idx, x):\n",
    "    if idx == len(a):\n",
    "        return -1\n",
    "    m = first_occurence(a, idx+1, x)\n",
    "    if a[idx] == x:\n",
    "        m = idx\n",
    "    return m\n",
    "    \n",
    "    \n",
    "first_occurence([1,2,3,4,3,2,1, 5], 0, 5)    "
   ]
  },
  {
   "cell_type": "code",
   "execution_count": 37,
   "id": "07c1d06d",
   "metadata": {},
   "outputs": [
    {
     "data": {
      "text/plain": [
       "-1"
      ]
     },
     "execution_count": 37,
     "metadata": {},
     "output_type": "execute_result"
    }
   ],
   "source": [
    "#Better approach\n",
    "def first_occurence(a, idx, x):\n",
    "    if idx == len(a) :\n",
    "        return -1\n",
    "    \n",
    "    if a[idx] == x:\n",
    "        m = idx\n",
    "        return m\n",
    "    else:\n",
    "        m = first_occurence(a, idx+1, x)\n",
    "\n",
    "    return m\n",
    "    \n",
    "    \n",
    "first_occurence([1,2,3,4,3,2,1, 5], 0, 100)    "
   ]
  },
  {
   "cell_type": "code",
   "execution_count": 43,
   "id": "c99e26a9",
   "metadata": {},
   "outputs": [
    {
     "data": {
      "text/plain": [
       "6"
      ]
     },
     "execution_count": 43,
     "metadata": {},
     "output_type": "execute_result"
    }
   ],
   "source": [
    "def last_occurence(a, idx, x):\n",
    "    if idx == len(a):\n",
    "        return -1\n",
    "    m = last_occurence(a, idx+1, x)\n",
    "    if a[idx] == x:\n",
    "        if m < idx:\n",
    "            m = idx\n",
    "            return m\n",
    "    return m\n",
    "        \n",
    "last_occurence([1,2,3,4,3,2,1, 5], 0, 1)      "
   ]
  },
  {
   "cell_type": "code",
   "execution_count": 21,
   "id": "f6ba34c4",
   "metadata": {},
   "outputs": [
    {
     "data": {
      "text/plain": [
       "[2, 4]"
      ]
     },
     "execution_count": 21,
     "metadata": {},
     "output_type": "execute_result"
    }
   ],
   "source": [
    "def all_indices(a, idx, x, c):\n",
    "    if idx == len(a):\n",
    "        ans = [0] * (c)\n",
    "        return ans\n",
    "    \n",
    "    if a[idx] == x:\n",
    "        m = all_indices(a, idx+1, x, c+1)\n",
    "        m[c] = idx  \n",
    "    else:\n",
    "        m = all_indices(a, idx+1, x, c)\n",
    "    return m\n",
    "\n",
    "all_indices([1,2,3,4,3,2,1, 5], 0, 3, 0)"
   ]
  },
  {
   "cell_type": "code",
   "execution_count": 38,
   "id": "38a259a4",
   "metadata": {},
   "outputs": [
    {
     "data": {
      "text/plain": [
       "['abc_', '_bc_', 'a_c_', '__c_', 'ab__', '_b__', 'a___', '____']"
      ]
     },
     "execution_count": 38,
     "metadata": {},
     "output_type": "execute_result"
    }
   ],
   "source": [
    "def getsubsequence(s):\n",
    "    if len(s) == 0:\n",
    "        return ['_']\n",
    "    ans = []\n",
    "    first = s[0]\n",
    "    rest = s[1:]\n",
    "    m = getsubsequence(rest)\n",
    "    for i in m:\n",
    "        a = first + i\n",
    "        b = '_' + i\n",
    "        ans.append(a)\n",
    "        ans.append(b)\n",
    "    return ans\n",
    "getsubsequence('abc')        "
   ]
  },
  {
   "cell_type": "code",
   "execution_count": 39,
   "id": "d78e6c7c",
   "metadata": {},
   "outputs": [],
   "source": [
    "d = {0:'.;', 1 : 'abc', 2:'def', 3:'ghi', 4:'jkl', 5:'mno', 6:'pqrs', 7:'tu', 8:'vwx', 9:'yz'}"
   ]
  },
  {
   "cell_type": "code",
   "execution_count": 54,
   "id": "618a70e6",
   "metadata": {},
   "outputs": [
    {
     "data": {
      "text/plain": [
       "['mtg',\n",
       " 'ntg',\n",
       " 'otg',\n",
       " 'mug',\n",
       " 'nug',\n",
       " 'oug',\n",
       " 'mth',\n",
       " 'nth',\n",
       " 'oth',\n",
       " 'muh',\n",
       " 'nuh',\n",
       " 'ouh',\n",
       " 'mti',\n",
       " 'nti',\n",
       " 'oti',\n",
       " 'mui',\n",
       " 'nui',\n",
       " 'oui']"
      ]
     },
     "execution_count": 54,
     "metadata": {},
     "output_type": "execute_result"
    }
   ],
   "source": [
    "def getKeypad(s):\n",
    "    keypad = {0:'.;', 1 : 'abc', 2:'def', 3:'ghi', 4:'jkl', 5:'mno', 6:'pqrs', 7:'tu', 8:'vwx', 9:'yz'}\n",
    "    if len(s) == 1:\n",
    "        return list(keypad[int(s)])\n",
    "    first = s[0]\n",
    "    last = s[1:]\n",
    "    m = getKPC(last)\n",
    "    ans = []\n",
    "    for i in m:\n",
    "        for j in keypad[int(first)]:\n",
    "            a = j + i\n",
    "            ans.append(a)\n",
    "\n",
    "    return ans\n",
    "getKeypad('573')\n",
    "    "
   ]
  },
  {
   "cell_type": "code",
   "execution_count": 33,
   "id": "64d9dde8",
   "metadata": {},
   "outputs": [
    {
     "data": {
      "text/plain": [
       "['1111', '112', '121', '13', '211', '22', '31']"
      ]
     },
     "execution_count": 33,
     "metadata": {},
     "output_type": "execute_result"
    }
   ],
   "source": [
    "def getStairsPath(n):\n",
    "    if n == 0:\n",
    "        return ['']\n",
    "    elif n < 0:\n",
    "        return []\n",
    "    ans = []\n",
    "    a = getStairsPath(n-1)\n",
    "    b = getStairsPath(n-2)\n",
    "    c = getStairsPath(n-3)\n",
    "    \n",
    "    for i in a:\n",
    "        x = '1' + i\n",
    "        ans.append(x)\n",
    "    for i in b:\n",
    "        x = '2' + i\n",
    "        ans.append(x)\n",
    "    for i in c:\n",
    "        x = '3' + i\n",
    "        ans.append(x)\n",
    "    return ans\n",
    "getStairsPath(4)"
   ]
  },
  {
   "cell_type": "code",
   "execution_count": 55,
   "id": "bf6bfd83",
   "metadata": {},
   "outputs": [
    {
     "data": {
      "text/plain": [
       "['hhvv', 'hvhv', 'hvvh', 'vhhv', 'vhvh', 'vvhh']"
      ]
     },
     "execution_count": 55,
     "metadata": {},
     "output_type": "execute_result"
    }
   ],
   "source": [
    "def getMazePaths(sr,sc,dr,dc):\n",
    "    if sr == dr and sc == dc:\n",
    "        return ['']\n",
    "    if sr > dr or sc > dc:\n",
    "        return []\n",
    "\n",
    "    vpaths = getMazePaths(sr+1, sc, dr,dc)\n",
    "    hpaths = getMazePaths(sr, sc+1,dr,dc)\n",
    "    ans = []\n",
    "    for i in hpaths:\n",
    "        x = 'h' + i\n",
    "        ans.append(x)\n",
    "    for j in vpaths:\n",
    "        z = 'v' + j\n",
    "        ans.append(z)\n",
    "    return ans\n",
    "        \n",
    "getMazePaths(1,1,3,3)    "
   ]
  },
  {
   "cell_type": "code",
   "execution_count": 20,
   "id": "7d27ec51",
   "metadata": {},
   "outputs": [
    {
     "data": {
      "text/plain": [
       "['v1v1h1h1',\n",
       " 'v1v1h2',\n",
       " 'v1h1v1h1',\n",
       " 'v1h1h1v1',\n",
       " 'v1h1d1',\n",
       " 'v1h2v1',\n",
       " 'v1d1h1',\n",
       " 'v2h1h1',\n",
       " 'v2h2',\n",
       " 'h1v1v1h1',\n",
       " 'h1v1h1v1',\n",
       " 'h1v1d1',\n",
       " 'h1v2h1',\n",
       " 'h1h1v1v1',\n",
       " 'h1h1v2',\n",
       " 'h1d1v1',\n",
       " 'h2v1v1',\n",
       " 'h2v2',\n",
       " 'd1v1h1',\n",
       " 'd1h1v1',\n",
       " 'd1d1',\n",
       " 'd2']"
      ]
     },
     "execution_count": 20,
     "metadata": {},
     "output_type": "execute_result"
    }
   ],
   "source": [
    "def getMazePathsJump(sr,sc,dr,dc):\n",
    "    \n",
    "    if sr == dr and sc == dc:\n",
    "        return ['']\n",
    "    if sr > dr or sc > dc:\n",
    "        return []\n",
    "    ans = []\n",
    "    for v in range(1, dr - sr + 1, 1):\n",
    "            vpaths = getMazePathsJump(sr+v, sc, dr,dc)\n",
    "            for i in vpaths:\n",
    "                x = 'v' + str(v) +  i\n",
    "                ans.append(x)\n",
    "\n",
    "    for h in range(1, dc - sc + 1, 1):\n",
    "\n",
    "            hpaths = getMazePathsJump(sr, sc+h, dr,dc)\n",
    "            for i in hpaths:\n",
    "                x = 'h' + str(h)+  i\n",
    "                ans.append(x)\n",
    "                \n",
    "    for d in range(1, min(dc - sc + 1, dr - sr + 1), 1):\n",
    "            dpaths = getMazePathsJump(sr+d, sc+d, dr,dc)\n",
    "            for i in dpaths:\n",
    "                x = 'd' + str(d) + i \n",
    "                ans.append(x)            \n",
    "    return ans\n",
    "        \n",
    "getMazePathsJump(1,1,3,3)        \n",
    "    "
   ]
  },
  {
   "cell_type": "code",
   "execution_count": null,
   "id": "df55463e",
   "metadata": {},
   "outputs": [],
   "source": []
  },
  {
   "cell_type": "code",
   "execution_count": null,
   "id": "59e2c968",
   "metadata": {},
   "outputs": [],
   "source": []
  },
  {
   "cell_type": "code",
   "execution_count": 9,
   "id": "d6be1d50",
   "metadata": {},
   "outputs": [
    {
     "name": "stdout",
     "output_type": "stream",
     "text": [
      "abcd\n",
      "abc\n",
      "abd\n",
      "ab\n",
      "acd\n",
      "ac\n",
      "ad\n",
      "a\n",
      "bcd\n",
      "bc\n",
      "bd\n",
      "b\n",
      "cd\n",
      "c\n",
      "d\n",
      "\n"
     ]
    }
   ],
   "source": [
    "#The reason we do this is because if string is of length 30 then we will need more than 32GB. Hence, it won't be viable to store the subsequences\n",
    "\n",
    "def printsubseq(s, ans):\n",
    "    if len(s) == 0:\n",
    "        print(ans)\n",
    "        return ''\n",
    "    first = s[0]\n",
    "    rest = s[1:]\n",
    "    printsubseq(rest, ans + first)\n",
    "    printsubseq(rest, ans + '')\n",
    "printsubseq('abcd', '')    "
   ]
  },
  {
   "cell_type": "code",
   "execution_count": 32,
   "id": "84263372",
   "metadata": {},
   "outputs": [
    {
     "name": "stdout",
     "output_type": "stream",
     "text": [
      "mtg\n",
      "mth\n",
      "mti\n",
      "mug\n",
      "muh\n",
      "mui\n",
      "ntg\n",
      "nth\n",
      "nti\n",
      "nug\n",
      "nuh\n",
      "nui\n",
      "otg\n",
      "oth\n",
      "oti\n",
      "oug\n",
      "ouh\n",
      "oui\n"
     ]
    }
   ],
   "source": [
    "def printKeypad(s, ans):\n",
    "    keypad = {0:'.;', 1 : 'abc', 2:'def', 3:'ghi', 4:'jkl', 5:'mno', 6:'pqrs', 7:'tu', 8:'vwx', 9:'yz'}\n",
    "    if len(s) == 0:\n",
    "        print(ans)\n",
    "        return ''\n",
    "    first = s[0]\n",
    "    rest = s[1:]\n",
    "    for i in keypad[int(first)]:\n",
    "        printKeypad(rest, ans + i)\n",
    "printKeypad('573','')"
   ]
  },
  {
   "cell_type": "code",
   "execution_count": 1,
   "id": "87efae42",
   "metadata": {},
   "outputs": [
    {
     "name": "stdout",
     "output_type": "stream",
     "text": [
      "32\n",
      "311\n",
      "23\n",
      "221\n",
      "212\n",
      "2111\n",
      "131\n",
      "122\n",
      "1211\n",
      "113\n",
      "1121\n",
      "1112\n",
      "11111\n"
     ]
    }
   ],
   "source": [
    "def printStairpaths(n, ans):\n",
    "    if n == 0:\n",
    "        print(ans)\n",
    "        return ''\n",
    "    if n < 0:\n",
    "        return ''\n",
    "    printStairpaths(n-3 , ans +'3')\n",
    "    printStairpaths(n-2 , ans + '2')\n",
    "    printStairpaths(n-1 , ans + '1')\n",
    "    \n",
    "    \n",
    "printStairpaths(5, '')"
   ]
  },
  {
   "cell_type": "code",
   "execution_count": 6,
   "id": "b1d76195",
   "metadata": {},
   "outputs": [
    {
     "name": "stdout",
     "output_type": "stream",
     "text": [
      "hhv\n",
      "hvh\n",
      "vhh\n"
     ]
    }
   ],
   "source": [
    "def printMazepaths(sr, sc, dr, dc, ans):\n",
    "    if sr == dr and sc == dc:\n",
    "        print(ans)\n",
    "        return\n",
    "    if sc < dc:\n",
    "        printMazepaths(sr, sc+1, dr, dc, ans + 'h')\n",
    "    if sr < dr:\n",
    "        printMazepaths(sr+1, sc, dr, dc, ans + 'v')\n",
    "\n",
    "    \n",
    "printMazepaths(1, 1, 2, 3, '')        "
   ]
  },
  {
   "cell_type": "code",
   "execution_count": 55,
   "id": "55c29d38",
   "metadata": {},
   "outputs": [
    {
     "data": {
      "text/plain": [
       "['v1v1h1h1',\n",
       " 'v1v1h2',\n",
       " 'v1h1v1h1',\n",
       " 'v1h1h1v1',\n",
       " 'v1h1d1',\n",
       " 'v1h2v1',\n",
       " 'v1d1h1',\n",
       " 'v2h1h1',\n",
       " 'v2h2',\n",
       " 'h1v1v1h1',\n",
       " 'h1v1h1v1',\n",
       " 'h1v1d1',\n",
       " 'h1v2h1',\n",
       " 'h1h1v1v1',\n",
       " 'h1h1v2',\n",
       " 'h1d1v1',\n",
       " 'h2v1v1',\n",
       " 'h2v2',\n",
       " 'd1v1h1',\n",
       " 'd1h1v1',\n",
       " 'd1d1',\n",
       " 'd2']"
      ]
     },
     "execution_count": 55,
     "metadata": {},
     "output_type": "execute_result"
    }
   ],
   "source": [
    "def printMazePathsJump(sr,sc,dr,dc):\n",
    "    \n",
    "    if sr == dr and sc == dc:\n",
    "        return ['']\n",
    "    if sr > dr or sc > dc:\n",
    "        return []\n",
    "    ans = []\n",
    "    for v in range(1, dr - sr + 1, 1):\n",
    "            vpaths = getMazePathsJump(sr+v, sc, dr,dc)\n",
    "            for i in vpaths:\n",
    "                x = 'v' + str(v) +  i\n",
    "                ans.append(x)\n",
    "\n",
    "    for h in range(1, dc - sc + 1, 1):\n",
    "\n",
    "            hpaths = getMazePathsJump(sr, sc+h, dr,dc)\n",
    "            for i in hpaths:\n",
    "                x = 'h' + str(h)+  i\n",
    "                ans.append(x)\n",
    "                \n",
    "    for d in range(1, min(dc - sc + 1, dr - sr + 1), 1):\n",
    "            dpaths = getMazePathsJump(sr+d, sc+d, dr,dc)\n",
    "            for i in dpaths:\n",
    "                x = 'd' + str(d) + i \n",
    "                ans.append(x)            \n",
    "    return ans\n",
    "printMazePathsJump(1,1,3,3)        "
   ]
  },
  {
   "cell_type": "code",
   "execution_count": 62,
   "id": "8a0bba47",
   "metadata": {},
   "outputs": [
    {
     "name": "stdout",
     "output_type": "stream",
     "text": [
      "h1h1v1v1\n",
      "h1h1v2\n",
      "h1v1h1v1\n",
      "h1v1v1h1\n",
      "h1v1d1\n",
      "h1v2h1\n",
      "h1d1v1\n",
      "h2v1v1\n",
      "h2v2\n",
      "v1h1h1v1\n",
      "v1h1v1h1\n",
      "v1h1d1\n",
      "v1h2v1\n",
      "v1v1h1h1\n",
      "v1v1h2\n",
      "v1d1h1\n",
      "v2h1h1\n",
      "v2h2\n",
      "d1h1v1\n",
      "d1v1h1\n",
      "d1d1\n",
      "d2\n"
     ]
    }
   ],
   "source": [
    "def printMazePathsJump(sr,sc,dr,dc, ans):\n",
    "    if sr == dr and sc == dc:\n",
    "        print(ans)\n",
    "        return\n",
    "#     if sr > dr or sc > dc:\n",
    "#         return \n",
    "#     if sr == dr or sc == dc:\n",
    "#         return ans\n",
    "        \n",
    "    \n",
    "    for h in range(1, dc - sc + 1, 1):\n",
    "#         ans = ans + 'h' + str(h) \n",
    "        #if sc + h < dc:\n",
    "        printMazePathsJump(sr ,sc + h,dr,dc, ans + 'h' + str(h))\n",
    "#         for i in hpath:\n",
    "#             ans = 'h' + str(h) + ans\n",
    "    \n",
    "    \n",
    "    for v in range(1, dr - sr + 1, 1):\n",
    "#         ans = ans + 'v' + str(v)\n",
    "        #if sr + v < dr:\n",
    "        printMazePathsJump(sr + v,sc,dr,dc, ans + 'v' + str(v) )\n",
    "#         for i in vpath:\n",
    "#             ans = 'v' + str(v) + ans\n",
    "            #x = 'v' + str(v) + i\n",
    "            \n",
    "\n",
    "            \n",
    "    for d in range(1, min(dc - sc + 1, dr - sr + 1), 1):\n",
    "#         ans = ans + 'd' + str(d) \n",
    "        #if sr + v < dr and sc + v < dc:\n",
    "        printMazePathsJump(sr+d, sc+d, dr,dc, ans + 'd' + str(d)  )\n",
    "#             for i in dpath:\n",
    "#                 ans = 'd' + str(d) + ans\n",
    "        \n",
    "        \n",
    "printMazePathsJump(1,1,3,3,'')    "
   ]
  },
  {
   "cell_type": "code",
   "execution_count": 25,
   "id": "ea6206b9",
   "metadata": {},
   "outputs": [
    {
     "name": "stdout",
     "output_type": "stream",
     "text": [
      "abc\n",
      "acb\n",
      "bac\n",
      "bca\n",
      "cab\n",
      "cba\n"
     ]
    }
   ],
   "source": [
    "def printPermutation(s, ans):\n",
    "    if len(s) == 0:\n",
    "        print(ans)\n",
    "        return\n",
    "    for i in range(len(s)):\n",
    "        printPermutation(s[:i] + s[i+1:], ans + str(s[i]))\n",
    "\n",
    "        \n",
    "printPermutation('abc', '')    "
   ]
  },
  {
   "cell_type": "code",
   "execution_count": 5,
   "id": "f0122bee",
   "metadata": {},
   "outputs": [
    {
     "name": "stdout",
     "output_type": "stream",
     "text": [
      "ddrdddrrrrr\n",
      "ddrrttrrrrddlldddrr\n",
      "ddrrrrdddrr\n"
     ]
    }
   ],
   "source": [
    "maze = [[0,1,0,0,0,0,0], [0,1,0,1,1,1,0], [0,0,0,0,0,0,0], [1,0,1,1,0,1,1], [1,0,1,1,0,1,1], [1,0,0,0,0,0,0]]\n",
    "discovered = [[0] * len(maze[0]) for i in range(len(maze))]\n",
    "def floodFill(maze, row, col, ans, discovered):\n",
    "    if row < 0 or col < 0 or row == len(maze) or col == len(maze[0]) or maze[row][col] == 1 or discovered[row][col] ==1:\n",
    "        return\n",
    "    if row == len(maze) - 1 and col == len(maze[0]) - 1:\n",
    "        print(ans)\n",
    "        return\n",
    "    \n",
    "    \n",
    "    \n",
    "    discovered[row][col] =1\n",
    "    floodFill(maze, row-1, col, ans + 't', discovered)\n",
    "    floodFill(maze, row, col-1, ans + 'l', discovered)\n",
    "    floodFill(maze, row+1, col, ans + 'd', discovered)\n",
    "    floodFill(maze, row, col+1, ans + 'r', discovered)\n",
    "    discovered[row][col] =0\n",
    "floodFill(maze, 0,0,'',discovered)"
   ]
  },
  {
   "cell_type": "code",
   "execution_count": 68,
   "id": "84fd6d90",
   "metadata": {},
   "outputs": [
    {
     "name": "stdout",
     "output_type": "stream",
     "text": [
      "yes\n",
      "1020\n",
      "yes\n",
      "30\n"
     ]
    }
   ],
   "source": [
    "def targetSubsets(arr, target, sub, ans):\n",
    "    if len(arr)==0:\n",
    "        if sub == target:\n",
    "            print('yes')\n",
    "            print(ans)\n",
    "        return\n",
    "    \n",
    "    first = arr[0]\n",
    "    rest = arr[1:]\n",
    "    targetSubsets(rest, target, sub + first, ans +''+ str(first))\n",
    "    targetSubsets(rest, target, sub, ans)\n",
    "        \n",
    "        \n",
    "targetSubsets([10,20,30,40,50], 30, 0, '')        "
   ]
  },
  {
   "cell_type": "code",
   "execution_count": 15,
   "id": "fce8ed1f",
   "metadata": {},
   "outputs": [
    {
     "name": "stdout",
     "output_type": "stream",
     "text": [
      "0-0,1-0,.\n",
      "0-0,1-1,.\n",
      "0-1,1-0,.\n",
      "0-1,1-1,.\n"
     ]
    }
   ],
   "source": [
    "chess = [[0] * 2 for i in range(2)]\n",
    "def Nqueens(chess, qsf, row):\n",
    "    if row == len(chess):\n",
    "        print(qsf + '.')\n",
    "        return\n",
    "    for col in range(len(chess)):\n",
    "        chess[row][col] = 1\n",
    "        Nqueens(chess, qsf + str(row) + '-' + str(col)+',', row+1)\n",
    "        chess[row][col] = 0  \n",
    "        \n",
    "\n",
    "                \n",
    "Nqueens(chess, '',0)        "
   ]
  },
  {
   "cell_type": "code",
   "execution_count": 7,
   "id": "73de4f2b",
   "metadata": {},
   "outputs": [
    {
     "data": {
      "text/plain": [
       "[[0, 0], [0, 0]]"
      ]
     },
     "execution_count": 7,
     "metadata": {},
     "output_type": "execute_result"
    }
   ],
   "source": [
    "        \n",
    "    des safeForqueen(chess, row, col):\n",
    "        for i in range(row-1):\n",
    "            if chess[i][col] == 1:\n",
    "                return False\n",
    "        for i in range(row -1, 0, -1):\n",
    "            for j in range(col -1):\n",
    "                if chess[i][j] == 1:\n",
    "                    return False"
   ]
  },
  {
   "cell_type": "code",
   "execution_count": null,
   "id": "a0b2a8be",
   "metadata": {},
   "outputs": [],
   "source": []
  },
  {
   "cell_type": "code",
   "execution_count": null,
   "id": "272b1001",
   "metadata": {},
   "outputs": [],
   "source": []
  },
  {
   "cell_type": "code",
   "execution_count": null,
   "id": "1fa24f1f",
   "metadata": {},
   "outputs": [],
   "source": []
  }
 ],
 "metadata": {
  "kernelspec": {
   "display_name": "Python 3.9 (tensorflow)",
   "language": "python",
   "name": "tensorflow"
  },
  "language_info": {
   "codemirror_mode": {
    "name": "ipython",
    "version": 3
   },
   "file_extension": ".py",
   "mimetype": "text/x-python",
   "name": "python",
   "nbconvert_exporter": "python",
   "pygments_lexer": "ipython3",
   "version": "3.9.7"
  }
 },
 "nbformat": 4,
 "nbformat_minor": 5
}
