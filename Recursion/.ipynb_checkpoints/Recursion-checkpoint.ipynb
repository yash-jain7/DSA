{
 "cells": [
  {
   "cell_type": "code",
   "execution_count": 2,
   "id": "c9c358de",
   "metadata": {},
   "outputs": [
    {
     "name": "stdout",
     "output_type": "stream",
     "text": [
      "5\n",
      "4\n",
      "3\n",
      "2\n",
      "1\n"
     ]
    }
   ],
   "source": [
    "def print_decreasing(n):\n",
    "    if n < 1:\n",
    "        return\n",
    "    print(n)\n",
    "    print_decreasing(n-1)\n",
    "print_decreasing(5)  "
   ]
  },
  {
   "cell_type": "code",
   "execution_count": 5,
   "id": "fc463c5c",
   "metadata": {},
   "outputs": [
    {
     "name": "stdout",
     "output_type": "stream",
     "text": [
      "1\n",
      "2\n",
      "3\n",
      "4\n",
      "5\n"
     ]
    }
   ],
   "source": [
    "def print_increasing(n):\n",
    "    if n ==0:\n",
    "        return\n",
    "    print_increasing(n-1)\n",
    "    print(n)\n",
    "print_increasing(5)"
   ]
  },
  {
   "cell_type": "code",
   "execution_count": 6,
   "id": "a1d696dc",
   "metadata": {},
   "outputs": [
    {
     "name": "stdout",
     "output_type": "stream",
     "text": [
      "5\n",
      "4\n",
      "3\n",
      "2\n",
      "1\n",
      "1\n",
      "2\n",
      "3\n",
      "4\n",
      "5\n"
     ]
    }
   ],
   "source": [
    "def print_decreasing_increasing(n):\n",
    "    if n == 0:\n",
    "        return\n",
    "    print(n)\n",
    "    print_decreasing_increasing(n-1)\n",
    "    print(n)\n",
    "\n",
    "print_decreasing_increasing(5) "
   ]
  },
  {
   "cell_type": "code",
   "execution_count": 10,
   "id": "b01922c8",
   "metadata": {},
   "outputs": [
    {
     "data": {
      "text/plain": [
       "120"
      ]
     },
     "execution_count": 10,
     "metadata": {},
     "output_type": "execute_result"
    }
   ],
   "source": [
    "def factorial(n):\n",
    "    if n == 0:\n",
    "        return 1 \n",
    "    a = n * factorial(n-1)\n",
    "    return a\n",
    "x = factorial(5)\n",
    "x"
   ]
  },
  {
   "cell_type": "code",
   "execution_count": 12,
   "id": "fd0f3d5f",
   "metadata": {},
   "outputs": [
    {
     "data": {
      "text/plain": [
       "4"
      ]
     },
     "execution_count": 12,
     "metadata": {},
     "output_type": "execute_result"
    }
   ],
   "source": [
    "def power(x,n):\n",
    "    if n == 0:\n",
    "        return 1\n",
    "    a = x * power(x, n-1)\n",
    "    return a\n",
    "power(2,2)"
   ]
  },
  {
   "cell_type": "code",
   "execution_count": 9,
   "id": "e979c477",
   "metadata": {},
   "outputs": [
    {
     "data": {
      "text/plain": [
       "32"
      ]
     },
     "execution_count": 9,
     "metadata": {},
     "output_type": "execute_result"
    }
   ],
   "source": [
    "def log_power(x,n):\n",
    "    if n == 0:\n",
    "        return 1\n",
    "    a = log_power(x, n//2)\n",
    "    ans = a * a\n",
    "    if n%2 == 1:\n",
    "        ans = ans * x\n",
    "    return ans\n",
    "\n",
    "b = log_power(2,5)\n",
    "b"
   ]
  },
  {
   "cell_type": "code",
   "execution_count": 9,
   "id": "b0d4b2b5",
   "metadata": {},
   "outputs": [
    {
     "name": "stdout",
     "output_type": "stream",
     "text": [
      "1[A-->C]\n",
      "2[A-->B]\n",
      "1[C-->B]\n"
     ]
    }
   ],
   "source": [
    "#Tower of Hanoi\n",
    "\n",
    "def tower_of_hanoi(n, t1, t2, t3):\n",
    "    if n == 0:\n",
    "        return\n",
    "    tower_of_hanoi(n-1, t1, t3, t2)\n",
    "    print(str(n) + '[' + t1 + '-->' + t2 + ']')\n",
    "    tower_of_hanoi(n-1, t3, t2, t1)\n",
    "\n",
    "tower_of_hanoi(3, 'A', 'B', 'C')\n"
   ]
  },
  {
   "cell_type": "code",
   "execution_count": 27,
   "id": "ac034852",
   "metadata": {},
   "outputs": [
    {
     "name": "stdout",
     "output_type": "stream",
     "text": [
      "50\n"
     ]
    }
   ],
   "source": [
    "def display_array(a, idx):\n",
    "    n = len(a)\n",
    "    if idx == n:\n",
    "        return\n",
    "    print(a[idx])\n",
    "    display_array(a, idx+1)\n",
    "    \n",
    "display_array([10,20,30,40,50], 4) "
   ]
  },
  {
   "cell_type": "code",
   "execution_count": 31,
   "id": "2b7379a5",
   "metadata": {},
   "outputs": [
    {
     "name": "stdout",
     "output_type": "stream",
     "text": [
      "50\n",
      "40\n",
      "30\n"
     ]
    }
   ],
   "source": [
    "def display_array_reverse(a, idx):\n",
    "    n = len(a)\n",
    "    if idx == len(a):\n",
    "        return\n",
    "    display_array_reverse(a, idx+1)\n",
    "    print(a[idx])\n",
    "\n",
    "display_array_reverse([10,20,30,40,50], 2) "
   ]
  },
  {
   "cell_type": "code",
   "execution_count": null,
   "id": "2d6667f7",
   "metadata": {},
   "outputs": [],
   "source": []
  },
  {
   "cell_type": "code",
   "execution_count": null,
   "id": "9dd61573",
   "metadata": {},
   "outputs": [],
   "source": []
  },
  {
   "cell_type": "code",
   "execution_count": null,
   "id": "07c1d06d",
   "metadata": {},
   "outputs": [],
   "source": []
  },
  {
   "cell_type": "code",
   "execution_count": null,
   "id": "c99e26a9",
   "metadata": {},
   "outputs": [],
   "source": []
  },
  {
   "cell_type": "code",
   "execution_count": null,
   "id": "f6ba34c4",
   "metadata": {},
   "outputs": [],
   "source": []
  }
 ],
 "metadata": {
  "kernelspec": {
   "display_name": "Python 3.9 (tensorflow)",
   "language": "python",
   "name": "tensorflow"
  },
  "language_info": {
   "codemirror_mode": {
    "name": "ipython",
    "version": 3
   },
   "file_extension": ".py",
   "mimetype": "text/x-python",
   "name": "python",
   "nbconvert_exporter": "python",
   "pygments_lexer": "ipython3",
   "version": "3.9.7"
  }
 },
 "nbformat": 4,
 "nbformat_minor": 5
}
