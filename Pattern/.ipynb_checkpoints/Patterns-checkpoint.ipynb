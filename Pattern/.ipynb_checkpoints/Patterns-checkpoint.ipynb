{
 "cells": [
  {
   "cell_type": "code",
   "execution_count": 16,
   "id": "14c4997e",
   "metadata": {},
   "outputs": [
    {
     "name": "stdout",
     "output_type": "stream",
     "text": [
      "Enter number of rows:5\n",
      "* \n",
      "* * \n",
      "* * * \n",
      "* * * * \n",
      "* * * * * \n"
     ]
    }
   ],
   "source": [
    "n = int(input('Enter number of rows:'))\n",
    "\n",
    "for i in range(1, n+1, 1):\n",
    "    for j in range(i):\n",
    "        print('*', end=' ')\n",
    "    print('')\n",
    "    "
   ]
  },
  {
   "cell_type": "code",
   "execution_count": 18,
   "id": "4cce49ab",
   "metadata": {},
   "outputs": [
    {
     "name": "stdout",
     "output_type": "stream",
     "text": [
      "Enter number of rows:5\n",
      "* * * * * \n",
      "* * * * \n",
      "* * * \n",
      "* * \n",
      "* \n"
     ]
    }
   ],
   "source": [
    "n = int(input('Enter number of rows:'))\n",
    "\n",
    "for i in range(n, 0, -1):\n",
    "    for j in range(i):\n",
    "        print('*', end = ' ')\n",
    "    print('')"
   ]
  },
  {
   "cell_type": "code",
   "execution_count": 25,
   "id": "4782082e",
   "metadata": {},
   "outputs": [
    {
     "name": "stdout",
     "output_type": "stream",
     "text": [
      "Enter number of rows:5\n",
      "        * \n",
      "      * * \n",
      "    * * * \n",
      "  * * * * \n",
      "* * * * * \n"
     ]
    }
   ],
   "source": [
    "n = int(input('Enter number of rows:'))\n",
    "\n",
    "for i in range(n, 0, -1):\n",
    "    for j in range(i-1):\n",
    "        print(' ', end = ' ')\n",
    "    for j in range(n - (i - 1)):\n",
    "        print('*', end = ' ')\n",
    "    print('')"
   ]
  },
  {
   "cell_type": "code",
   "execution_count": 32,
   "id": "86e7a54c",
   "metadata": {},
   "outputs": [
    {
     "name": "stdout",
     "output_type": "stream",
     "text": [
      "Enter number of rows:5\n",
      "* * * * * \n",
      "  * * * * \n",
      "    * * * \n",
      "      * * \n",
      "        * \n"
     ]
    }
   ],
   "source": [
    "n = int(input('Enter number of rows:'))\n",
    "\n",
    "for i in range(n, 0, -1):\n",
    "    for j in range(n-i):\n",
    "        print(' ', end = ' ')\n",
    "    for j in range(i):\n",
    "        print('*', end=' ')\n",
    "    print('')\n",
    "        \n",
    "\n",
    "        "
   ]
  },
  {
   "cell_type": "code",
   "execution_count": 8,
   "id": "b4aaf6d6",
   "metadata": {},
   "outputs": [
    {
     "name": "stdout",
     "output_type": "stream",
     "text": [
      "Enter number of rows:9\n",
      "    *    \n",
      "   ***   \n",
      "  *****  \n",
      " ******* \n",
      "*********\n",
      " ******* \n",
      "  *****  \n",
      "   ***   \n",
      "    *    \n"
     ]
    }
   ],
   "source": [
    "#Naive\n",
    "\n",
    "n = int(input('Enter number of rows:'))\n",
    "\n",
    "for i in range(1, n+1, 1):\n",
    "    for j in range(int(abs(n - (2*i) + 1)/2)):\n",
    "        print(' ', end = '')\n",
    "    if ((2*i) - 1) <= n:\n",
    "        for j in range(2*i - 1):\n",
    "            print('*', end = '')\n",
    "    else:\n",
    "        for j in range(2*n - 2*i + 1):\n",
    "            print('*', end='')\n",
    "            \n",
    "    for j in range(int(abs(n - (2*i) + 1)/2)):\n",
    "        print(' ', end = '')     \n",
    "    print('')"
   ]
  },
  {
   "cell_type": "code",
   "execution_count": 21,
   "id": "7c0e5778",
   "metadata": {},
   "outputs": [
    {
     "name": "stdout",
     "output_type": "stream",
     "text": [
      "Enter number of rows:5\n",
      "  *\n",
      " ***\n",
      "*****\n",
      " ***\n",
      "  *\n"
     ]
    }
   ],
   "source": [
    "n = int(input('Enter number of rows:'))\n",
    "\n",
    "sp = int(n/2)\n",
    "st = 1\n",
    "\n",
    "for i in range(1, n+1, 1):\n",
    "    for j in range(sp):\n",
    "        print(' ', end = '')\n",
    "    for j in range(st):\n",
    "        print('*', end = '')\n",
    "    print('')\n",
    "    if (i <= int(n/2)):\n",
    "        sp = sp - 1\n",
    "        st = st + 2\n",
    "    else:\n",
    "        sp = sp + 1\n",
    "        st = st - 2"
   ]
  },
  {
   "cell_type": "code",
   "execution_count": 26,
   "id": "f434d396",
   "metadata": {},
   "outputs": [
    {
     "name": "stdout",
     "output_type": "stream",
     "text": [
      "Enter number of rows:5\n",
      "*** ***\n",
      "**   **\n",
      "*     *\n",
      "**   **\n",
      "*** ***\n"
     ]
    }
   ],
   "source": [
    "n = int(input('Enter number of rows:'))\n",
    "\n",
    "st = int(n/2) + 1\n",
    "sp = 1\n",
    "\n",
    "for i in range(1, n+1, 1):\n",
    "    for j in range(st):\n",
    "        print('*', end = '')\n",
    "    for j in range(sp):\n",
    "        print(' ', end = '')\n",
    "    for j in range(st):\n",
    "        print('*', end = '')\n",
    "    print('')\n",
    "    if (i <= int(n/2)):\n",
    "        st = st - 1\n",
    "        sp = sp + 2\n",
    "    else:\n",
    "        st = st + 1\n",
    "        sp = sp - 2\n",
    "        "
   ]
  },
  {
   "cell_type": "code",
   "execution_count": 31,
   "id": "4a81c4bc",
   "metadata": {},
   "outputs": [
    {
     "name": "stdout",
     "output_type": "stream",
     "text": [
      "Enter number of rows:5\n",
      "*\n",
      "    *\n",
      "        *\n",
      "            *\n",
      "                *\n"
     ]
    }
   ],
   "source": [
    "#Naive\n",
    "\n",
    "n = int(input('Enter number of rows:'))\n",
    "\n",
    "sp = 0\n",
    "for i in range(1, n+1,1):\n",
    "    for j in range(sp):\n",
    "        print('    ', end = '')\n",
    "    print('*', end = '')\n",
    "    print('')\n",
    "    sp = sp + 1\n",
    "\n",
    "    "
   ]
  },
  {
   "cell_type": "code",
   "execution_count": 41,
   "id": "db361c8c",
   "metadata": {},
   "outputs": [
    {
     "name": "stdout",
     "output_type": "stream",
     "text": [
      "Enter number of rows:5\n",
      "*                \n",
      "    *            \n",
      "        *        \n",
      "            *    \n",
      "                *\n"
     ]
    }
   ],
   "source": [
    "n = int(input('Enter number of rows:'))\n",
    "\n",
    "for i in range(1, n+1, 1):\n",
    "    for j in range(1, n+1, 1):\n",
    "        if i == j:\n",
    "            print('*', end = '')\n",
    "        else:\n",
    "            print('    ', end = '')\n",
    "    print('')\n",
    "        "
   ]
  },
  {
   "cell_type": "code",
   "execution_count": 33,
   "id": "f1bc073d",
   "metadata": {},
   "outputs": [
    {
     "name": "stdout",
     "output_type": "stream",
     "text": [
      "Enter number of rows:5\n",
      "            *\n",
      "         *\n",
      "      *\n",
      "   *\n",
      "*\n"
     ]
    }
   ],
   "source": [
    "#Naive\n",
    "\n",
    "n = int(input('Enter number of rows:'))\n",
    "\n",
    "sp = n - 1\n",
    "for i in range(1, n+1, 1):\n",
    "    for j in range(sp):\n",
    "        print('   ', end = '')\n",
    "    print('*', end = '')\n",
    "    print('')\n",
    "    sp = sp -1"
   ]
  },
  {
   "cell_type": "code",
   "execution_count": 42,
   "id": "af3cf03e",
   "metadata": {},
   "outputs": [
    {
     "name": "stdout",
     "output_type": "stream",
     "text": [
      "Enter number of rows:5\n",
      "                *\n",
      "            *    \n",
      "        *        \n",
      "    *            \n",
      "*                \n"
     ]
    }
   ],
   "source": [
    "n = int(input('Enter number of rows:'))\n",
    "\n",
    "for i in range(1, n+1, 1):\n",
    "    for j in range(1, n+1, 1):\n",
    "        if j == n - i + 1:\n",
    "            print('*', end = '')\n",
    "        else:\n",
    "            print('    ', end = '')\n",
    "    print('')"
   ]
  },
  {
   "cell_type": "code",
   "execution_count": 81,
   "id": "90ba8b19",
   "metadata": {},
   "outputs": [
    {
     "name": "stdout",
     "output_type": "stream",
     "text": [
      "Enter number of rows:5\n",
      "*\t\t\t\t*\t \n",
      "\t*\t\t*\t\t \n",
      "\t\t*\t\t\t \n",
      "\t*\t\t*\t\t \n",
      "*\t\t\t\t*\t \n"
     ]
    }
   ],
   "source": [
    "n = int(input('Enter number of rows:'))\n",
    "\n",
    "for i in range(1, n+1, 1):\n",
    "    for j in range(1, n+1, 1):\n",
    "        if (i == j) or (j == n - i + 1):\n",
    "            print('*\\t', end = '')\n",
    "        else:\n",
    "            print('\\t', end = '')\n",
    "    print(' ')\n",
    "        \n"
   ]
  },
  {
   "cell_type": "markdown",
   "id": "56c2651b",
   "metadata": {},
   "source": [
    "##### "
   ]
  },
  {
   "cell_type": "code",
   "execution_count": 1,
   "id": "5f93e9bb",
   "metadata": {},
   "outputs": [
    {
     "name": "stdout",
     "output_type": "stream",
     "text": [
      "Enter number of rows:5\n",
      "\t\t*\t\t\t\n",
      "\t*\t\t*\t\t\n",
      "*\t\t\t\t*\t\n",
      "\t*\t\t*\t\t\n",
      "\t\t*\t\t\t\n"
     ]
    }
   ],
   "source": [
    "n = int(input('Enter number of rows:'))\n",
    "\n",
    "f = int(n/2) + 1\n",
    "b = int(n/2) + 1\n",
    "\n",
    "for i in range(1, n+1, 1):\n",
    "    for j in range(1, n+1, 1):\n",
    "        if ((j == f) or (j == b)):\n",
    "            print('*\\t', end = '')\n",
    "        else:\n",
    "            print('\\t', end = '')\n",
    "    print('')\n",
    "    if i < n/2:\n",
    "        f = f-1\n",
    "        b = b+1\n",
    "    else:\n",
    "        f = f+1\n",
    "        b = b-1\n",
    "        \n",
    "        \n",
    "    \n",
    "            \n",
    "            \n",
    "            "
   ]
  },
  {
   "cell_type": "code",
   "execution_count": 13,
   "id": "b5cf6e89",
   "metadata": {},
   "outputs": [
    {
     "name": "stdout",
     "output_type": "stream",
     "text": [
      "Enter number of rows:5\n",
      "  *\n",
      " * *\n",
      "*   *\n",
      " * *\n",
      "  *\n"
     ]
    }
   ],
   "source": [
    "n = int(input('Enter number of rows:'))\n",
    "\n",
    "op = 2\n",
    "cp = -1\n",
    "\n",
    "for i in range(1, n+1, 1):\n",
    "    for j in range(op):\n",
    "        print(' ', end = '')\n",
    "    print('*', end = '')\n",
    "    for j in range(cp):\n",
    "        print(' ', end = '')\n",
    "    if i != n and i != 1:\n",
    "        print('*', end = '')\n",
    "    print('')\n",
    "\n",
    "    if i < n/2:\n",
    "        op = op - 1\n",
    "        cp = cp + 2\n",
    "    else:\n",
    "        op = op + 1\n",
    "        cp = cp - 2"
   ]
  },
  {
   "cell_type": "code",
   "execution_count": 16,
   "id": "f637be4a",
   "metadata": {},
   "outputs": [
    {
     "name": "stdout",
     "output_type": "stream",
     "text": [
      "Enter number of rows:5\n",
      "1  \n",
      "2  3  \n",
      "4  5  6  \n",
      "7  8  9  10  \n",
      "11  12  13  14  15  \n"
     ]
    }
   ],
   "source": [
    "n = int(input('Enter number of rows:'))\n",
    "\n",
    "c = 1\n",
    "for i in range(1, n+1, 1):\n",
    "    for j in range(i):\n",
    "        print(c,' ', end = '')\n",
    "        c = c+1\n",
    "    print('')\n",
    "    "
   ]
  },
  {
   "cell_type": "code",
   "execution_count": 17,
   "id": "2e61b651",
   "metadata": {},
   "outputs": [
    {
     "name": "stdout",
     "output_type": "stream",
     "text": [
      "Enter number of rows:5\n",
      "0  \n",
      "1  1  \n",
      "2  3  5  \n",
      "8  13  21  34  \n",
      "55  89  144  233  377  \n"
     ]
    }
   ],
   "source": [
    "n = int(input('Enter number of rows:'))\n",
    "\n",
    "a = 0\n",
    "b = 1\n",
    "\n",
    "for i in range(1, n+1, 1):\n",
    "    for j in range(i):\n",
    "        print(a,' ', end = '')\n",
    "        c = a + b\n",
    "        a = b\n",
    "        b = c\n",
    "    print('')        "
   ]
  },
  {
   "cell_type": "code",
   "execution_count": 93,
   "id": "c187d137",
   "metadata": {},
   "outputs": [
    {
     "name": "stdout",
     "output_type": "stream",
     "text": [
      "Enter number of rows:5\n",
      "1  \n",
      "1  1  \n",
      "1  2  1  \n",
      "1  3  3  1  \n",
      "1  4  6  4  1  \n"
     ]
    }
   ],
   "source": [
    "#nCk+1 = (nCk * (n-k)) / (k+1)\n",
    "\n",
    "n = int(input('Enter number of rows:'))\n",
    "\n",
    "for i in range(n):\n",
    "    val = 1\n",
    "    for j in range(i+1):\n",
    "        if ((j == 0) or (j == i)):\n",
    "            val = 1\n",
    "            print(int(val),' ', end = '')\n",
    "        else:\n",
    "            val = val * ((i - (j - 1))/(j))\n",
    "            print(int(val),' ', end = '')\n",
    "    print('')\n",
    "\n",
    "        "
   ]
  },
  {
   "cell_type": "markdown",
   "id": "49f1ede6",
   "metadata": {},
   "source": [
    "##### "
   ]
  },
  {
   "cell_type": "code",
   "execution_count": 42,
   "id": "4beeae95",
   "metadata": {},
   "outputs": [
    {
     "name": "stdout",
     "output_type": "stream",
     "text": [
      "Enter the number:4\n",
      "4   * 1   = 4\n",
      "4   * 2   = 8\n",
      "4   * 3   = 12\n",
      "4   * 4   = 16\n",
      "4   * 5   = 20\n",
      "4   * 6   = 24\n",
      "4   * 7   = 28\n",
      "4   * 8   = 32\n",
      "4   * 9   = 36\n",
      "4   * 10   = 40\n"
     ]
    }
   ],
   "source": [
    "n = int(input('Enter the number:'))\n",
    "\n",
    "for i in range(1, 11, 1):\n",
    "    print(n,' ','*',i,' ','=',  n * i)\n"
   ]
  },
  {
   "cell_type": "markdown",
   "id": "e95edcce",
   "metadata": {},
   "source": [
    "n = int(input('Enter number of rows:'))\n",
    "\n",
    "sp = int(n/2)\n",
    "st = 1\n",
    "c = 1\n",
    "for i in range(1, n+1, 1):\n",
    "    c = i\n",
    "    for j in range(sp):\n",
    "        print(' ', end = '')\n",
    "    for j in range(st):\n",
    "        print(c, end= '')\n",
    "\n",
    "            \n",
    "    if (i < n/2):\n",
    "        sp = sp -1\n",
    "        st = st +2\n",
    "\n",
    "    else:\n",
    "        sp = sp + 1\n",
    "        st = st -2\n",
    "    print('')"
   ]
  },
  {
   "cell_type": "code",
   "execution_count": 154,
   "id": "98b29199",
   "metadata": {},
   "outputs": [
    {
     "name": "stdout",
     "output_type": "stream",
     "text": [
      "Enter number of rows:5\n",
      "  1\n",
      " 234\n",
      "34567\n",
      " 234\n",
      "  1\n"
     ]
    }
   ],
   "source": [
    "#\n",
    "\n",
    "n = int(input('Enter number of rows:'))\n",
    "\n",
    "sp = int(n/2)\n",
    "st = 1\n",
    "s = 1\n",
    "for i in range(1, n+1, 1):\n",
    "    c = s\n",
    "    for j in range(sp):\n",
    "        print(' ', end = '')\n",
    "    for j in range(st):\n",
    "        print(c, end= '')\n",
    "        c = c + 1\n",
    "\n",
    "    if (i < n/2):\n",
    "        sp = sp -1\n",
    "        st = st +2\n",
    "        s = s+ 1\n",
    "    else:\n",
    "        sp = sp + 1\n",
    "        st = st -2\n",
    "        s = s - 1\n",
    "    print('')"
   ]
  },
  {
   "cell_type": "code",
   "execution_count": 164,
   "id": "4779d76d",
   "metadata": {},
   "outputs": [
    {
     "name": "stdout",
     "output_type": "stream",
     "text": [
      "Enter number of rows:5\n",
      "  1\n",
      " 232\n",
      "34543\n",
      " 232\n",
      "  1\n"
     ]
    }
   ],
   "source": [
    "n = int(input('Enter number of rows:'))\n",
    "\n",
    "sp = int(n/2)\n",
    "st = 1\n",
    "s = 1\n",
    "for i in range(1, n+1, 1):\n",
    "    c = s\n",
    "    for j in range(sp):\n",
    "        print(' ', end = '')\n",
    "    for j in range(st):\n",
    "        print(c, end= '')\n",
    "        if (j < st/2 - 1) :\n",
    "            c = c + 1\n",
    "        else:\n",
    "            c = c - 1\n",
    "        \n",
    "    if (i < n/2):\n",
    "        sp = sp -1\n",
    "        st = st +2\n",
    "        s = s+ 1\n",
    "    else:\n",
    "        sp = sp + 1\n",
    "        st = st -2\n",
    "        s = s - 1\n",
    "    print('')"
   ]
  },
  {
   "cell_type": "code",
   "execution_count": 42,
   "id": "5d9dd3b5",
   "metadata": {},
   "outputs": [
    {
     "name": "stdout",
     "output_type": "stream",
     "text": [
      "Enter number of rows:5\n",
      "1       1\n",
      "12     21\n",
      "123   321\n",
      "1234 4321\n",
      "123454321\n"
     ]
    }
   ],
   "source": [
    "n = int(input('Enter number of rows:'))\n",
    "\n",
    "sp = 2*n - 3\n",
    "\n",
    "for i in range(1, n+1, 1):\n",
    "    cf = 1\n",
    "    for j in range(1, i+1, 1):\n",
    "        print(cf, end = '')\n",
    "        if j < (2*i - 1)/2 :\n",
    "            cf = cf + 1\n",
    "        else:\n",
    "            cf = cf \n",
    "\n",
    "    for j in range(sp):\n",
    "        print(' ', end = '')\n",
    "\n",
    "\n",
    "    if i == n:\n",
    "        for j in range(1, i, 1):\n",
    "            cf = cf - 1\n",
    "            print(cf, end = '')\n",
    "    else:\n",
    "        for j in range(1, i+1, 1):\n",
    "            print(cf, end = '')\n",
    "            cf = cf - 1\n",
    "    print('')\n",
    "    sp = sp - 2\n",
    "\n",
    "        "
   ]
  },
  {
   "cell_type": "code",
   "execution_count": 50,
   "id": "e42caaf0",
   "metadata": {},
   "outputs": [
    {
     "name": "stdout",
     "output_type": "stream",
     "text": [
      "Enter number of rows:11\n",
      "     *\n",
      "     **\n",
      "     ***\n",
      "     ****\n",
      "     *****\n",
      "***********\n",
      "     *****\n",
      "     ****\n",
      "     ***\n",
      "     **\n",
      "     *\n"
     ]
    }
   ],
   "source": [
    "n = int(input('Enter number of rows:'))\n",
    "\n",
    "sp = int(n/2)\n",
    "st = 1\n",
    "\n",
    "for i in range(1, n+1, 1):\n",
    "    if i != int(n/2) + 1:\n",
    "        for j in range(sp):\n",
    "            print(' ', end = '')\n",
    "        for j in range(st):\n",
    "            print('*', end = '')\n",
    "            \n",
    "        if i <= int(n/2):\n",
    "            st = st + 1\n",
    "        else:\n",
    "            st = st - 1  \n",
    "    else:\n",
    "        for j in range(sp):\n",
    "            print('*', end = '')\n",
    "        for j in range(st):\n",
    "            print('*', end = '')\n",
    "        st = st - 1\n",
    "    print('')\n",
    "          "
   ]
  },
  {
   "cell_type": "code",
   "execution_count": 54,
   "id": "34e4aca3",
   "metadata": {},
   "outputs": [
    {
     "name": "stdout",
     "output_type": "stream",
     "text": [
      "Enter number of rows:5\n",
      "  *\n",
      "  **\n",
      "*****\n",
      "  **\n",
      "  *\n"
     ]
    }
   ],
   "source": [
    "#Better approach\n",
    "\n",
    "n = int(input('Enter number of rows:'))\n",
    "\n",
    "sp = int(n/2)\n",
    "st = 1\n",
    "\n",
    "for i in range(1, n+1, 1):\n",
    "    if i == int(n/2) + 1:\n",
    "        for j in range(sp):\n",
    "            print('*', end = '')\n",
    "    else:\n",
    "        for j in range(sp):\n",
    "            print(' ', end = '')\n",
    "\n",
    "    for j in range(st):\n",
    "        print('*', end = '')\n",
    "        \n",
    "    if i <= int(n/2):\n",
    "        st = st + 1\n",
    "    else:\n",
    "        st = st - 1\n",
    "    print('')"
   ]
  },
  {
   "cell_type": "code",
   "execution_count": 72,
   "id": "f62f2e79",
   "metadata": {},
   "outputs": [
    {
     "name": "stdout",
     "output_type": "stream",
     "text": [
      "Enter number of rows:5\n",
      "*****\n",
      " * *\n",
      "  *\n",
      " ***\n",
      "*****\n"
     ]
    }
   ],
   "source": [
    "n = int(input('Enter number of rows:'))\n",
    "\n",
    "osp = 1\n",
    "isp = n - 4\n",
    "st = 3\n",
    "\n",
    "for i in range(1, n+1, 1):\n",
    "    if i <= int(n/2) + 1:\n",
    "        if i == 1:\n",
    "            for j in range(1, n+1, 1):\n",
    "                print('*', end = '')\n",
    "            print('')\n",
    "        else:\n",
    "            for j in range(1, osp+1, 1):\n",
    "                print(' ', end = '')\n",
    "            print('*', end = '')\n",
    "            for j in range(1, isp+1, 1):\n",
    "                print(' ', end = '')\n",
    "            if i != int(n/2) + 1:\n",
    "                print('*', end = '')\n",
    "                osp = osp +1\n",
    "                isp = isp - 2\n",
    "            else:\n",
    "                osp = osp - 1\n",
    "            print('')\n",
    "\n",
    "\n",
    "    else:\n",
    "        for j in range(1, osp+1, 1):\n",
    "            print(' ', end = '')\n",
    "        for j in range(1, st+1, 1):\n",
    "            print('*', end = '')\n",
    "        print('')\n",
    "        osp = osp - 1\n",
    "        st = st + 2"
   ]
  },
  {
   "cell_type": "code",
   "execution_count": 78,
   "id": "4fd5ded9",
   "metadata": {},
   "outputs": [
    {
     "name": "stdout",
     "output_type": "stream",
     "text": [
      "Enter number of rows:11\n",
      "***********\n",
      " *       *\n",
      "  *     *\n",
      "   *   *\n",
      "    * *\n",
      "     *\n",
      "    ***\n",
      "   *****\n",
      "  *******\n",
      " *********\n",
      "***********\n"
     ]
    }
   ],
   "source": [
    "#Better approach\n",
    "\n",
    "n = int(input('Enter number of rows:'))\n",
    "\n",
    "st = n\n",
    "sp = 0\n",
    "\n",
    "for i in range(1, n+1, 1):\n",
    "    for j in range(1, sp+1, 1):\n",
    "        print(' ', end = '')\n",
    "    for j in range(1, st+1, 1):\n",
    "        if ((i > 1) and (i < (int(n/2) + 1)) and (j > 1) and (j < st)):\n",
    "            print(' ', end = '')\n",
    "        else: \n",
    "            print('*', end = '')\n",
    "    print('')\n",
    "    if i < int(n/2) + 1:\n",
    "        sp = sp + 1\n",
    "        st = st -2\n",
    "    else:\n",
    "        sp = sp - 1\n",
    "        st = st + 2"
   ]
  },
  {
   "cell_type": "code",
   "execution_count": 107,
   "id": "fec47f45",
   "metadata": {},
   "outputs": [
    {
     "name": "stdout",
     "output_type": "stream",
     "text": [
      "Enter number of rows:13\n",
      "*******     *\n",
      "      *     *\n",
      "      *     *\n",
      "      *     *\n",
      "      *     *\n",
      "      *     *\n",
      "*************\n",
      "*     *      \n",
      "*     *      \n",
      "*     *      \n",
      "*     *      \n",
      "*     *      \n",
      "*     *******\n"
     ]
    }
   ],
   "source": [
    "n = int(input('Enter number of rows:'))\n",
    "\n",
    "for i in range(1, n+1, 1):\n",
    "    for j in range(1, n+1, 1):\n",
    "        if i == 1:\n",
    "            if (j <= int(n/2) + 1) or j == n:\n",
    "                print('*', end = '')\n",
    "            else:\n",
    "                print(' ', end = '')\n",
    "        elif i == n:\n",
    "            if j >= (int(n/2) + 1) or j == 1:\n",
    "                print('*', end = '')\n",
    "            else:\n",
    "                print(' ', end = '')\n",
    "        elif i == int(n/2) + 1 :\n",
    "            print('*', end = '')\n",
    "        elif ((i > 1) and (i < int(n/2) + 1)):\n",
    "            if j == int(n/2) + 1:\n",
    "                print('*', end = '')\n",
    "            elif j == n:\n",
    "                print('*', end = '') \n",
    "            else:\n",
    "                print(' ', end = '')\n",
    "        else:\n",
    "            if j == int(n/2) + 1:\n",
    "                print('*', end = '')\n",
    "            elif j == 1:\n",
    "                print('*', end = '') \n",
    "            else:\n",
    "                print(' ', end = '')\n",
    "    print('')\n"
   ]
  },
  {
   "cell_type": "code",
   "execution_count": null,
   "id": "fcea911e",
   "metadata": {},
   "outputs": [],
   "source": []
  },
  {
   "cell_type": "code",
   "execution_count": null,
   "id": "389b7719",
   "metadata": {},
   "outputs": [],
   "source": []
  },
  {
   "cell_type": "code",
   "execution_count": null,
   "id": "f0ca05f4",
   "metadata": {},
   "outputs": [],
   "source": []
  }
 ],
 "metadata": {
  "kernelspec": {
   "display_name": "Python 3.9 (tensorflow)",
   "language": "python",
   "name": "tensorflow"
  },
  "language_info": {
   "codemirror_mode": {
    "name": "ipython",
    "version": 3
   },
   "file_extension": ".py",
   "mimetype": "text/x-python",
   "name": "python",
   "nbconvert_exporter": "python",
   "pygments_lexer": "ipython3",
   "version": "3.9.7"
  }
 },
 "nbformat": 4,
 "nbformat_minor": 5
}
