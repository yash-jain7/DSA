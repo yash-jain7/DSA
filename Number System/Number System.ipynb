{
 "cells": [
  {
   "cell_type": "code",
   "execution_count": 9,
   "id": "fcb80ed7",
   "metadata": {},
   "outputs": [
    {
     "name": "stdout",
     "output_type": "stream",
     "text": [
      "Enter Number:999\n",
      "Enter Number to be found:9\n",
      "3\n"
     ]
    }
   ],
   "source": [
    "#Digit Frequency\n",
    "\n",
    "n = int(input('Enter Number:'))\n",
    "x = int(input('Enter Number to be found:'))\n",
    "c = 0\n",
    "while n != 0:\n",
    "    r = n % 10\n",
    "    if r == x:\n",
    "        c = c + 1\n",
    "    n = n // 10\n",
    "print(c)"
   ]
  },
  {
   "cell_type": "code",
   "execution_count": 12,
   "id": "6aea5d95",
   "metadata": {},
   "outputs": [
    {
     "name": "stdout",
     "output_type": "stream",
     "text": [
      "Enter the decimal number:634\n",
      "Enter base to which the number is to be converted:8\n",
      "1172\n"
     ]
    }
   ],
   "source": [
    "#Decimal to any base\n",
    "\n",
    "n = int(input('Enter the decimal number:'))\n",
    "b = int(input('Enter base to which the number is to be converted:'))\n",
    "c = 0\n",
    "conv = 0\n",
    "while n != 0:\n",
    "    r = n % b\n",
    "    conv = conv + (10 ** c) * r\n",
    "    n = n // b\n",
    "    c = c + 1\n",
    "print(conv)"
   ]
  },
  {
   "cell_type": "code",
   "execution_count": 14,
   "id": "169bf6a1",
   "metadata": {},
   "outputs": [
    {
     "name": "stdout",
     "output_type": "stream",
     "text": [
      "Enter the decimal number:1172\n",
      "Enter base of the given number:8\n",
      "634\n"
     ]
    }
   ],
   "source": [
    "#Any base to decimal\n",
    "\n",
    "n = int(input('Enter the decimal number:'))\n",
    "b = int(input('Enter base of the given number:'))\n",
    "c = 0\n",
    "conv = 0\n",
    "while n != 0:\n",
    "    r = n % 10\n",
    "    conv = conv + (b ** c) * r\n",
    "    c = c + 1\n",
    "    n = n // 10\n",
    "print(conv)\n",
    "    \n"
   ]
  },
  {
   "cell_type": "code",
   "execution_count": 15,
   "id": "4f61fbf6",
   "metadata": {},
   "outputs": [
    {
     "name": "stdout",
     "output_type": "stream",
     "text": [
      "Enter the decimal number:72\n",
      "Enter base of the given number:10\n",
      "Enter the base to which the number will be converted:3\n",
      "2200\n"
     ]
    }
   ],
   "source": [
    "#Any base to any base\n",
    "\n",
    "n = int(input('Enter the decimal number:'))\n",
    "b1 = int(input('Enter base of the given number:'))\n",
    "b2 = int(input('Enter the base to which the number will be converted:'))\n",
    "c = 0\n",
    "conv = 0\n",
    "while n != 0:\n",
    "    r = n % b2\n",
    "    conv = conv + (b1 ** c) * r\n",
    "    n = n // b2\n",
    "    c = c + 1\n",
    "print(conv)"
   ]
  },
  {
   "cell_type": "code",
   "execution_count": 29,
   "id": "0bbdcd45",
   "metadata": {},
   "outputs": [
    {
     "name": "stdout",
     "output_type": "stream",
     "text": [
      "Enter the base:8\n",
      "Enter the first number:236\n",
      "Enter the second number:754\n",
      "1212\n"
     ]
    }
   ],
   "source": [
    "#Any base addition\n",
    "\n",
    "b = int(input('Enter the base:'))\n",
    "n1 = int(input('Enter the first number:'))\n",
    "n2 = int(input('Enter the second number:'))\n",
    "\n",
    "p = 0\n",
    "c = 0\n",
    "conv = 0\n",
    "while n1 > 0 or n2 > 0 or c > 0:\n",
    "    r1 = n1 % 10\n",
    "    r2 = n2 % 10\n",
    "    d = r1 + r2 + c\n",
    "    c = d // b\n",
    "    conv = conv + (d % b) * (10 ** p)\n",
    "    p = p + 1\n",
    "    n1 = n1 // 10\n",
    "    n2 = n2 // 10 \n",
    "#conv += (10 ** p) * c\n",
    "print(conv)"
   ]
  },
  {
   "cell_type": "code",
   "execution_count": 38,
   "id": "8d08a64e",
   "metadata": {},
   "outputs": [
    {
     "name": "stdout",
     "output_type": "stream",
     "text": [
      "Enter the base:7\n",
      "Enter the first number:202\n",
      "Enter the second number:21\n",
      "151\n"
     ]
    }
   ],
   "source": [
    "#Any base subtraction\n",
    "\n",
    "b = int(input('Enter the base:'))\n",
    "n1 = int(input('Enter the first number:'))\n",
    "n2 = int(input('Enter the second number:'))\n",
    "\n",
    "c = 0\n",
    "p = 0\n",
    "conv = 0\n",
    "while n1> 0 or n2 > 0 or c > 0:\n",
    "    r1 = n1 % 10\n",
    "    r1 = r1 - c\n",
    "    r2 = n2 % 10\n",
    "    if r1 < r2:\n",
    "        r1 = r1 + b\n",
    "        c = 1\n",
    "    else:\n",
    "        r1 = r1\n",
    "        c = 0\n",
    "    d = r1 - r2 \n",
    "    conv = conv +  d * (10 ** p)\n",
    "    p = p + 1\n",
    "    n1 = n1 // 10\n",
    "    n2 = n2 // 10 \n",
    "    \n",
    "print(conv)"
   ]
  },
  {
   "cell_type": "code",
   "execution_count": null,
   "id": "b5952950",
   "metadata": {},
   "outputs": [],
   "source": [
    "#Any base multiplication\n",
    "\n",
    "b = int(input('Enter the base:'))\n",
    "n1 = int(input('Enter the first number:'))\n",
    "n2 = int(input('Enter the second number:'))\n",
    "\n",
    "while n2 > 0:\n",
    "    r1 = n1 % 10\n",
    "    \n",
    "    \n"
   ]
  },
  {
   "cell_type": "code",
   "execution_count": null,
   "id": "e25e941e",
   "metadata": {},
   "outputs": [],
   "source": []
  }
 ],
 "metadata": {
  "kernelspec": {
   "display_name": "Python 3.9 (tensorflow)",
   "language": "python",
   "name": "tensorflow"
  },
  "language_info": {
   "codemirror_mode": {
    "name": "ipython",
    "version": 3
   },
   "file_extension": ".py",
   "mimetype": "text/x-python",
   "name": "python",
   "nbconvert_exporter": "python",
   "pygments_lexer": "ipython3",
   "version": "3.9.7"
  }
 },
 "nbformat": 4,
 "nbformat_minor": 5
}
