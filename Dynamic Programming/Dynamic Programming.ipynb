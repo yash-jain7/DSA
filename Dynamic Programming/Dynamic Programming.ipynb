{
 "cells": [
  {
   "cell_type": "code",
   "execution_count": 16,
   "id": "c14fc702",
   "metadata": {},
   "outputs": [
    {
     "data": {
      "text/plain": [
       "55"
      ]
     },
     "execution_count": 16,
     "metadata": {},
     "output_type": "execute_result"
    }
   ],
   "source": [
    "#Fibonacci with memoization (extra space)\n",
    "def main(n):\n",
    "    qb = [0 for _ in range(n+1)]\n",
    "    def MemFib(n, qb):\n",
    "        if n == 0 or n == 1:\n",
    "            qb[n] = n\n",
    "            return qb[n]\n",
    "        if qb[n] != 0:\n",
    "            return qb[n]\n",
    "\n",
    "        a = MemFib(n-1, qb)\n",
    "        b = MemFib(n-2, qb)\n",
    "        qb[n] = a + b\n",
    "        return qb[n]\n",
    "    return MemFib(n, qb)\n",
    "main(10)"
   ]
  },
  {
   "cell_type": "code",
   "execution_count": 59,
   "id": "4d4eda81",
   "metadata": {},
   "outputs": [
    {
     "data": {
      "text/plain": [
       "7"
      ]
     },
     "execution_count": 59,
     "metadata": {},
     "output_type": "execute_result"
    }
   ],
   "source": [
    "#recursion\n",
    "\n",
    "#memoization\n",
    "def memPrintStairPath(n, qb):\n",
    "    if n == 0:\n",
    "        return 1\n",
    "    if n < 0:\n",
    "        return 0\n",
    "    if qb[n] > 0:\n",
    "        return qb[n]\n",
    "    a = printStairPath(n-1, qb)\n",
    "    b = printStairPath(n-2, qb) \n",
    "    c = printStairPath(n-3, qb)\n",
    "    total = a+b+c\n",
    "    qb[n] = total\n",
    "    return qb[n]\n",
    "\n",
    "#tabulation\n",
    "def tabPrintStairPath(n, qb):\n",
    "    qb[0] = 1\n",
    "    for i in range(1,n+1,1):\n",
    "        if i ==1:\n",
    "            qb[i] = qb[i-1]\n",
    "\n",
    "        elif i ==2:\n",
    "            qb[i] = qb[i-1] + qb[i-2]\n",
    "\n",
    "        else:\n",
    "            qb[i] = qb[i-1] + qb[i-2] + qb[i-3]\n",
    "\n",
    "    return qb[n]\n",
    "a = tabPrintStairPath(4, [0 for _ in range(5)])   \n",
    "a"
   ]
  },
  {
   "cell_type": "code",
   "execution_count": 70,
   "id": "ce265cb2",
   "metadata": {},
   "outputs": [
    {
     "data": {
      "text/plain": [
       "2044"
      ]
     },
     "execution_count": 70,
     "metadata": {},
     "output_type": "execute_result"
    }
   ],
   "source": [
    "def climbStairsWithJumps(n, t, dp):\n",
    "    dp[n] = 1\n",
    "    for i in range(n-1,-1,-1):\n",
    "        for j in range(0, t[i]+1, 1):\n",
    "            if i + j <= n:\n",
    "                dp[i] += dp[i+j]\n",
    "    return dp[0]\n",
    "            \n",
    "        \n",
    "    \n",
    "climbStairsWithJumps(13,  t = [5,5,2,4,1,5,9,8,6,3,8,9,1], dp = [0 for _ in range(14)])  "
   ]
  },
  {
   "cell_type": "code",
   "execution_count": null,
   "id": "f4cef14c",
   "metadata": {},
   "outputs": [],
   "source": []
  },
  {
   "cell_type": "code",
   "execution_count": null,
   "id": "cdcf4355",
   "metadata": {},
   "outputs": [],
   "source": []
  },
  {
   "cell_type": "code",
   "execution_count": null,
   "id": "af9421f7",
   "metadata": {},
   "outputs": [],
   "source": []
  }
 ],
 "metadata": {
  "kernelspec": {
   "display_name": "Python 3.9 (tensorflow)",
   "language": "python",
   "name": "tensorflow"
  },
  "language_info": {
   "codemirror_mode": {
    "name": "ipython",
    "version": 3
   },
   "file_extension": ".py",
   "mimetype": "text/x-python",
   "name": "python",
   "nbconvert_exporter": "python",
   "pygments_lexer": "ipython3",
   "version": "3.9.7"
  }
 },
 "nbformat": 4,
 "nbformat_minor": 5
}
